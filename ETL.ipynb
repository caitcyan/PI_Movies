{
 "cells": [
  {
   "attachments": {},
   "cell_type": "markdown",
   "metadata": {},
   "source": [
    "### ETL: Primera parte."
   ]
  },
  {
   "attachments": {},
   "cell_type": "markdown",
   "metadata": {},
   "source": [
    "```fix\n",
    "Requisitos:\n",
    "Datos:     Carpeta Data, con los cuatro csv de nuestros cuatro proveedores(netflix,amazon,disney,hulu).\n",
    "           Carpeta ratings, con los 8 archivos csv.\n",
    "Librerías: Pandas y Numpy. # pip install\n",
    "```"
   ]
  },
  {
   "attachments": {},
   "cell_type": "markdown",
   "metadata": {},
   "source": [
    "La carpeta del proyecto está estructurada de la siguiente manera:\n",
    "> ProjectML_OPS\n",
    " - Data\n",
    " - ProjectML_OPS_ML\n",
    " - ProjectML_OPS_API\n",
    " - ETL.ipynb (el presente archivo)\n",
    " - EDA.ipynb (siguiente archivo)"
   ]
  },
  {
   "cell_type": "code",
   "execution_count": 121,
   "metadata": {},
   "outputs": [],
   "source": [
    "#Como primer paso, importamos las librerías necesarias. \n",
    "\n",
    "import pandas as pd\n",
    "import numpy as np\n"
   ]
  },
  {
   "cell_type": "code",
   "execution_count": 122,
   "metadata": {},
   "outputs": [],
   "source": [
    "\n",
    "# Leemos los archivos que están en la carpeta Data.\n",
    "\n",
    "df_netflix = pd.read_csv(\"./Data/netflix_titles.csv\", sep=\",\")\n",
    "df_amazon = pd.read_csv(\"./Data/amazon_prime_titles.csv\", sep=\",\")\n",
    "df_disney = pd.read_csv(\"./Data/disney_plus_titles.csv\", sep=\",\")\n",
    "df_hulu = pd.read_csv(\"./Data/hulu_titles.csv\", sep=\",\")\n"
   ]
  },
  {
   "cell_type": "code",
   "execution_count": 123,
   "metadata": {},
   "outputs": [
    {
     "data": {
      "text/plain": [
       "(3073, 12)"
      ]
     },
     "execution_count": 123,
     "metadata": {},
     "output_type": "execute_result"
    }
   ],
   "source": [
    "df_hulu.head()\n",
    "df_hulu.shape"
   ]
  },
  {
   "attachments": {},
   "cell_type": "markdown",
   "metadata": {},
   "source": [
    "Las indicaciones a seguir son:\n",
    "\n",
    "-Generar campo id: Cada id se compondrá de la primera letra del nombre de la plataforma, seguido del show_id ya presente en los datasets (ejemplo para títulos de Amazon = as123)\n",
    "\n",
    "-Los valores nulos del campo rating deberán reemplazarse por el string “G” (corresponde al maturity rating: “general for all audiences”\n",
    "\n",
    "-De haber fechas, deberán tener el formato AAAA-mm-dd\n",
    "\n",
    "-Los campos de texto deberán estar en minúsculas, sin excepciones\n",
    "\n",
    "-El campo duration debe convertirse en dos campos: duration_int y duration_type. El primero será un integer y el segundo un string indicando la unidad de medición de duración: min (minutos) o season (temporadas)"
   ]
  },
  {
   "cell_type": "code",
   "execution_count": 124,
   "metadata": {},
   "outputs": [
    {
     "data": {
      "text/html": [
       "<div>\n",
       "<style scoped>\n",
       "    .dataframe tbody tr th:only-of-type {\n",
       "        vertical-align: middle;\n",
       "    }\n",
       "\n",
       "    .dataframe tbody tr th {\n",
       "        vertical-align: top;\n",
       "    }\n",
       "\n",
       "    .dataframe thead th {\n",
       "        text-align: right;\n",
       "    }\n",
       "</style>\n",
       "<table border=\"1\" class=\"dataframe\">\n",
       "  <thead>\n",
       "    <tr style=\"text-align: right;\">\n",
       "      <th></th>\n",
       "      <th>show_id</th>\n",
       "      <th>type</th>\n",
       "      <th>title</th>\n",
       "      <th>director</th>\n",
       "      <th>cast</th>\n",
       "      <th>country</th>\n",
       "      <th>date_added</th>\n",
       "      <th>release_year</th>\n",
       "      <th>rating</th>\n",
       "      <th>duration</th>\n",
       "      <th>listed_in</th>\n",
       "      <th>description</th>\n",
       "      <th>id</th>\n",
       "    </tr>\n",
       "  </thead>\n",
       "  <tbody>\n",
       "    <tr>\n",
       "      <th>0</th>\n",
       "      <td>s1</td>\n",
       "      <td>Movie</td>\n",
       "      <td>Dick Johnson Is Dead</td>\n",
       "      <td>Kirsten Johnson</td>\n",
       "      <td>NaN</td>\n",
       "      <td>United States</td>\n",
       "      <td>September 25, 2021</td>\n",
       "      <td>2020</td>\n",
       "      <td>PG-13</td>\n",
       "      <td>90 min</td>\n",
       "      <td>Documentaries</td>\n",
       "      <td>As her father nears the end of his life, filmm...</td>\n",
       "      <td>ns1</td>\n",
       "    </tr>\n",
       "    <tr>\n",
       "      <th>1</th>\n",
       "      <td>s2</td>\n",
       "      <td>TV Show</td>\n",
       "      <td>Blood &amp; Water</td>\n",
       "      <td>NaN</td>\n",
       "      <td>Ama Qamata, Khosi Ngema, Gail Mabalane, Thaban...</td>\n",
       "      <td>South Africa</td>\n",
       "      <td>September 24, 2021</td>\n",
       "      <td>2021</td>\n",
       "      <td>TV-MA</td>\n",
       "      <td>2 Seasons</td>\n",
       "      <td>International TV Shows, TV Dramas, TV Mysteries</td>\n",
       "      <td>After crossing paths at a party, a Cape Town t...</td>\n",
       "      <td>ns2</td>\n",
       "    </tr>\n",
       "    <tr>\n",
       "      <th>2</th>\n",
       "      <td>s3</td>\n",
       "      <td>TV Show</td>\n",
       "      <td>Ganglands</td>\n",
       "      <td>Julien Leclercq</td>\n",
       "      <td>Sami Bouajila, Tracy Gotoas, Samuel Jouy, Nabi...</td>\n",
       "      <td>NaN</td>\n",
       "      <td>September 24, 2021</td>\n",
       "      <td>2021</td>\n",
       "      <td>TV-MA</td>\n",
       "      <td>1 Season</td>\n",
       "      <td>Crime TV Shows, International TV Shows, TV Act...</td>\n",
       "      <td>To protect his family from a powerful drug lor...</td>\n",
       "      <td>ns3</td>\n",
       "    </tr>\n",
       "    <tr>\n",
       "      <th>3</th>\n",
       "      <td>s4</td>\n",
       "      <td>TV Show</td>\n",
       "      <td>Jailbirds New Orleans</td>\n",
       "      <td>NaN</td>\n",
       "      <td>NaN</td>\n",
       "      <td>NaN</td>\n",
       "      <td>September 24, 2021</td>\n",
       "      <td>2021</td>\n",
       "      <td>TV-MA</td>\n",
       "      <td>1 Season</td>\n",
       "      <td>Docuseries, Reality TV</td>\n",
       "      <td>Feuds, flirtations and toilet talk go down amo...</td>\n",
       "      <td>ns4</td>\n",
       "    </tr>\n",
       "    <tr>\n",
       "      <th>4</th>\n",
       "      <td>s5</td>\n",
       "      <td>TV Show</td>\n",
       "      <td>Kota Factory</td>\n",
       "      <td>NaN</td>\n",
       "      <td>Mayur More, Jitendra Kumar, Ranjan Raj, Alam K...</td>\n",
       "      <td>India</td>\n",
       "      <td>September 24, 2021</td>\n",
       "      <td>2021</td>\n",
       "      <td>TV-MA</td>\n",
       "      <td>2 Seasons</td>\n",
       "      <td>International TV Shows, Romantic TV Shows, TV ...</td>\n",
       "      <td>In a city of coaching centers known to train I...</td>\n",
       "      <td>ns5</td>\n",
       "    </tr>\n",
       "  </tbody>\n",
       "</table>\n",
       "</div>"
      ],
      "text/plain": [
       "  show_id     type                  title         director  \\\n",
       "0      s1    Movie   Dick Johnson Is Dead  Kirsten Johnson   \n",
       "1      s2  TV Show          Blood & Water              NaN   \n",
       "2      s3  TV Show              Ganglands  Julien Leclercq   \n",
       "3      s4  TV Show  Jailbirds New Orleans              NaN   \n",
       "4      s5  TV Show           Kota Factory              NaN   \n",
       "\n",
       "                                                cast        country  \\\n",
       "0                                                NaN  United States   \n",
       "1  Ama Qamata, Khosi Ngema, Gail Mabalane, Thaban...   South Africa   \n",
       "2  Sami Bouajila, Tracy Gotoas, Samuel Jouy, Nabi...            NaN   \n",
       "3                                                NaN            NaN   \n",
       "4  Mayur More, Jitendra Kumar, Ranjan Raj, Alam K...          India   \n",
       "\n",
       "           date_added  release_year rating   duration  \\\n",
       "0  September 25, 2021          2020  PG-13     90 min   \n",
       "1  September 24, 2021          2021  TV-MA  2 Seasons   \n",
       "2  September 24, 2021          2021  TV-MA   1 Season   \n",
       "3  September 24, 2021          2021  TV-MA   1 Season   \n",
       "4  September 24, 2021          2021  TV-MA  2 Seasons   \n",
       "\n",
       "                                           listed_in  \\\n",
       "0                                      Documentaries   \n",
       "1    International TV Shows, TV Dramas, TV Mysteries   \n",
       "2  Crime TV Shows, International TV Shows, TV Act...   \n",
       "3                             Docuseries, Reality TV   \n",
       "4  International TV Shows, Romantic TV Shows, TV ...   \n",
       "\n",
       "                                         description   id  \n",
       "0  As her father nears the end of his life, filmm...  ns1  \n",
       "1  After crossing paths at a party, a Cape Town t...  ns2  \n",
       "2  To protect his family from a powerful drug lor...  ns3  \n",
       "3  Feuds, flirtations and toilet talk go down amo...  ns4  \n",
       "4  In a city of coaching centers known to train I...  ns5  "
      ]
     },
     "execution_count": 124,
     "metadata": {},
     "output_type": "execute_result"
    }
   ],
   "source": [
    "# Generamos el campo id, con la primera letra de la plataforma y el id ya existente de cada fila.\n",
    "df_netflix['id'] = 'n' + df_netflix['show_id']\n",
    "df_amazon['id'] = 'a' + df_amazon['show_id']\n",
    "df_disney['id'] = 'd' + df_disney['show_id']\n",
    "df_hulu['id'] = 'h' + df_hulu['show_id']\n",
    "#Visualizamos\n",
    "df_netflix.head()\n"
   ]
  },
  {
   "cell_type": "code",
   "execution_count": 125,
   "metadata": {},
   "outputs": [
    {
     "data": {
      "text/plain": [
       "(22998, 13)"
      ]
     },
     "execution_count": 125,
     "metadata": {},
     "output_type": "execute_result"
    }
   ],
   "source": [
    "#Creamos una nueva tabla que tendra todos los datos. \n",
    "dataframes = [df_netflix, df_amazon, df_hulu, df_disney]\n",
    "df =  pd.concat(dataframes)\n",
    "# Visualizamos el tamaño del dataframe completo.\n",
    "df.shape"
   ]
  },
  {
   "attachments": {},
   "cell_type": "markdown",
   "metadata": {},
   "source": [
    "Nos quedamos con un dataframe de 22998 filas × 13 columnas.\n",
    "\n",
    "Ahora trabajamos las tablas de los ratings de usuarios."
   ]
  },
  {
   "cell_type": "code",
   "execution_count": 126,
   "metadata": {},
   "outputs": [],
   "source": [
    "#Leemos las tablas.\n",
    "df_1 = pd.read_csv(\"./Data/Ratings/1.csv\", sep=\",\")\n",
    "df_2 = pd.read_csv(\"./Data/Ratings/2.csv\", sep=\",\")\n",
    "df_3 = pd.read_csv(\"./Data/Ratings/3.csv\", sep=\",\")\n",
    "df_4 = pd.read_csv(\"./Data/Ratings/4.csv\", sep=\",\")\n",
    "df_5 = pd.read_csv(\"./Data/Ratings/5.csv\", sep=\",\")\n",
    "df_6 = pd.read_csv(\"./Data/Ratings/6.csv\", sep=\",\")\n",
    "df_7 = pd.read_csv(\"./Data/Ratings/7.csv\", sep=\",\")\n",
    "df_8 = pd.read_csv(\"./Data/Ratings/8.csv\", sep=\",\")"
   ]
  },
  {
   "cell_type": "code",
   "execution_count": 127,
   "metadata": {},
   "outputs": [
    {
     "data": {
      "text/html": [
       "<div>\n",
       "<style scoped>\n",
       "    .dataframe tbody tr th:only-of-type {\n",
       "        vertical-align: middle;\n",
       "    }\n",
       "\n",
       "    .dataframe tbody tr th {\n",
       "        vertical-align: top;\n",
       "    }\n",
       "\n",
       "    .dataframe thead th {\n",
       "        text-align: right;\n",
       "    }\n",
       "</style>\n",
       "<table border=\"1\" class=\"dataframe\">\n",
       "  <thead>\n",
       "    <tr style=\"text-align: right;\">\n",
       "      <th></th>\n",
       "      <th>userId</th>\n",
       "      <th>rating</th>\n",
       "      <th>timestamp</th>\n",
       "      <th>movieId</th>\n",
       "    </tr>\n",
       "  </thead>\n",
       "  <tbody>\n",
       "    <tr>\n",
       "      <th>0</th>\n",
       "      <td>1</td>\n",
       "      <td>1.0</td>\n",
       "      <td>1425941529</td>\n",
       "      <td>as680</td>\n",
       "    </tr>\n",
       "    <tr>\n",
       "      <th>1</th>\n",
       "      <td>1</td>\n",
       "      <td>4.5</td>\n",
       "      <td>1425942435</td>\n",
       "      <td>ns2186</td>\n",
       "    </tr>\n",
       "    <tr>\n",
       "      <th>2</th>\n",
       "      <td>1</td>\n",
       "      <td>5.0</td>\n",
       "      <td>1425941523</td>\n",
       "      <td>hs2381</td>\n",
       "    </tr>\n",
       "    <tr>\n",
       "      <th>3</th>\n",
       "      <td>1</td>\n",
       "      <td>5.0</td>\n",
       "      <td>1425941546</td>\n",
       "      <td>ns3663</td>\n",
       "    </tr>\n",
       "    <tr>\n",
       "      <th>4</th>\n",
       "      <td>1</td>\n",
       "      <td>5.0</td>\n",
       "      <td>1425941556</td>\n",
       "      <td>as9500</td>\n",
       "    </tr>\n",
       "  </tbody>\n",
       "</table>\n",
       "</div>"
      ],
      "text/plain": [
       "   userId  rating   timestamp movieId\n",
       "0       1     1.0  1425941529   as680\n",
       "1       1     4.5  1425942435  ns2186\n",
       "2       1     5.0  1425941523  hs2381\n",
       "3       1     5.0  1425941546  ns3663\n",
       "4       1     5.0  1425941556  as9500"
      ]
     },
     "execution_count": 127,
     "metadata": {},
     "output_type": "execute_result"
    }
   ],
   "source": [
    "#Juntamos todas las tablas\n",
    "datausers = [df_1, df_2, df_3, df_4,df_5,df_6,df_7, df_8]\n",
    "df_users =  pd.concat(datausers)\n",
    "df_users.head()"
   ]
  },
  {
   "cell_type": "code",
   "execution_count": 128,
   "metadata": {},
   "outputs": [
    {
     "data": {
      "text/plain": [
       "0"
      ]
     },
     "execution_count": 128,
     "metadata": {},
     "output_type": "execute_result"
    }
   ],
   "source": [
    "#Verificamos la columna rating antes de trabajarla.\n",
    "df_users['rating'].isna().sum()"
   ]
  },
  {
   "attachments": {},
   "cell_type": "markdown",
   "metadata": {},
   "source": [
    "No tiene nulos. Podemos crear la columna 'score' dentro de la tabla, que luego unificaremos con la primera tabla."
   ]
  },
  {
   "cell_type": "code",
   "execution_count": 129,
   "metadata": {},
   "outputs": [
    {
     "data": {
      "text/html": [
       "<div>\n",
       "<style scoped>\n",
       "    .dataframe tbody tr th:only-of-type {\n",
       "        vertical-align: middle;\n",
       "    }\n",
       "\n",
       "    .dataframe tbody tr th {\n",
       "        vertical-align: top;\n",
       "    }\n",
       "\n",
       "    .dataframe thead th {\n",
       "        text-align: right;\n",
       "    }\n",
       "</style>\n",
       "<table border=\"1\" class=\"dataframe\">\n",
       "  <thead>\n",
       "    <tr style=\"text-align: right;\">\n",
       "      <th></th>\n",
       "      <th>userId</th>\n",
       "      <th>rating</th>\n",
       "      <th>timestamp</th>\n",
       "      <th>movieId</th>\n",
       "      <th>score</th>\n",
       "    </tr>\n",
       "  </thead>\n",
       "  <tbody>\n",
       "    <tr>\n",
       "      <th>1499995</th>\n",
       "      <td>124380</td>\n",
       "      <td>4.5</td>\n",
       "      <td>1196786159</td>\n",
       "      <td>ns5272</td>\n",
       "      <td>3.593275</td>\n",
       "    </tr>\n",
       "    <tr>\n",
       "      <th>1499996</th>\n",
       "      <td>124380</td>\n",
       "      <td>2.5</td>\n",
       "      <td>1196786030</td>\n",
       "      <td>ns5492</td>\n",
       "      <td>3.536561</td>\n",
       "    </tr>\n",
       "    <tr>\n",
       "      <th>1499997</th>\n",
       "      <td>124380</td>\n",
       "      <td>3.5</td>\n",
       "      <td>1196785679</td>\n",
       "      <td>hs305</td>\n",
       "      <td>3.454183</td>\n",
       "    </tr>\n",
       "    <tr>\n",
       "      <th>1499998</th>\n",
       "      <td>124380</td>\n",
       "      <td>4.5</td>\n",
       "      <td>1196787089</td>\n",
       "      <td>ns7881</td>\n",
       "      <td>3.620278</td>\n",
       "    </tr>\n",
       "    <tr>\n",
       "      <th>1499999</th>\n",
       "      <td>124380</td>\n",
       "      <td>1.5</td>\n",
       "      <td>1196785847</td>\n",
       "      <td>as883</td>\n",
       "      <td>3.565476</td>\n",
       "    </tr>\n",
       "  </tbody>\n",
       "</table>\n",
       "</div>"
      ],
      "text/plain": [
       "         userId  rating   timestamp movieId     score\n",
       "1499995  124380     4.5  1196786159  ns5272  3.593275\n",
       "1499996  124380     2.5  1196786030  ns5492  3.536561\n",
       "1499997  124380     3.5  1196785679   hs305  3.454183\n",
       "1499998  124380     4.5  1196787089  ns7881  3.620278\n",
       "1499999  124380     1.5  1196785847   as883  3.565476"
      ]
     },
     "execution_count": 129,
     "metadata": {},
     "output_type": "execute_result"
    }
   ],
   "source": [
    "df_users['score'] = df_users['rating'].astype(float)\n",
    "#Usamos el promedio de las calificaciones de los usuarios para cada película, los agrupamos por el Id de la pelicula. \n",
    "df_users['score'] = df_users.groupby(['movieId'])['rating'].transform('mean')\n",
    "#Verificamos la tabla\n",
    "df_users.tail()"
   ]
  },
  {
   "cell_type": "code",
   "execution_count": 130,
   "metadata": {},
   "outputs": [
    {
     "data": {
      "text/plain": [
       "0"
      ]
     },
     "execution_count": 130,
     "metadata": {},
     "output_type": "execute_result"
    }
   ],
   "source": [
    "#Con estas dos tablas realizamos un merge, considerando el campo movieId. \n",
    "#Antes, verificamos los nulos y valores en las columnas de ambas tablas. \n",
    "df['id'].isna().sum()\n",
    "#0 \n",
    "df_users['movieId'].isna().sum()\n",
    "#0"
   ]
  },
  {
   "cell_type": "code",
   "execution_count": 131,
   "metadata": {},
   "outputs": [],
   "source": [
    "#Convertimos ambos datos a string, para cercionarnos de que son del mismo tipo (condicion para poder hacer el merge)\n",
    "df['id'] = df['id'].astype(str)\n",
    "#Renombranos la columna movieId de df_users.\n",
    "df_users.rename(columns = {'movieId':'id'}, inplace = True)\n",
    "df_users['id'] = df_users['id'].astype(str)\n"
   ]
  },
  {
   "cell_type": "code",
   "execution_count": 132,
   "metadata": {},
   "outputs": [],
   "source": [
    "#Realizamos el merge\n",
    "dataset = pd.merge(df,df_users[['id','userId','rating','timestamp','score']], on='id', how='left')\n"
   ]
  },
  {
   "cell_type": "code",
   "execution_count": 133,
   "metadata": {},
   "outputs": [
    {
     "data": {
      "text/html": [
       "<div>\n",
       "<style scoped>\n",
       "    .dataframe tbody tr th:only-of-type {\n",
       "        vertical-align: middle;\n",
       "    }\n",
       "\n",
       "    .dataframe tbody tr th {\n",
       "        vertical-align: top;\n",
       "    }\n",
       "\n",
       "    .dataframe thead th {\n",
       "        text-align: right;\n",
       "    }\n",
       "</style>\n",
       "<table border=\"1\" class=\"dataframe\">\n",
       "  <thead>\n",
       "    <tr style=\"text-align: right;\">\n",
       "      <th></th>\n",
       "      <th>show_id</th>\n",
       "      <th>type</th>\n",
       "      <th>title</th>\n",
       "      <th>director</th>\n",
       "      <th>cast</th>\n",
       "      <th>country</th>\n",
       "      <th>date_added</th>\n",
       "      <th>release_year</th>\n",
       "      <th>rating_x</th>\n",
       "      <th>duration</th>\n",
       "      <th>listed_in</th>\n",
       "      <th>description</th>\n",
       "      <th>id</th>\n",
       "      <th>userId</th>\n",
       "      <th>rating_y</th>\n",
       "      <th>timestamp</th>\n",
       "      <th>score</th>\n",
       "    </tr>\n",
       "  </thead>\n",
       "  <tbody>\n",
       "    <tr>\n",
       "      <th>0</th>\n",
       "      <td>s1</td>\n",
       "      <td>Movie</td>\n",
       "      <td>Dick Johnson Is Dead</td>\n",
       "      <td>Kirsten Johnson</td>\n",
       "      <td>NaN</td>\n",
       "      <td>United States</td>\n",
       "      <td>September 25, 2021</td>\n",
       "      <td>2020</td>\n",
       "      <td>PG-13</td>\n",
       "      <td>90 min</td>\n",
       "      <td>Documentaries</td>\n",
       "      <td>As her father nears the end of his life, filmm...</td>\n",
       "      <td>ns1</td>\n",
       "      <td>64</td>\n",
       "      <td>4.5</td>\n",
       "      <td>1085081152</td>\n",
       "      <td>3.611111</td>\n",
       "    </tr>\n",
       "    <tr>\n",
       "      <th>1</th>\n",
       "      <td>s1</td>\n",
       "      <td>Movie</td>\n",
       "      <td>Dick Johnson Is Dead</td>\n",
       "      <td>Kirsten Johnson</td>\n",
       "      <td>NaN</td>\n",
       "      <td>United States</td>\n",
       "      <td>September 25, 2021</td>\n",
       "      <td>2020</td>\n",
       "      <td>PG-13</td>\n",
       "      <td>90 min</td>\n",
       "      <td>Documentaries</td>\n",
       "      <td>As her father nears the end of his life, filmm...</td>\n",
       "      <td>ns1</td>\n",
       "      <td>189</td>\n",
       "      <td>3.5</td>\n",
       "      <td>1281649224</td>\n",
       "      <td>3.611111</td>\n",
       "    </tr>\n",
       "    <tr>\n",
       "      <th>2</th>\n",
       "      <td>s1</td>\n",
       "      <td>Movie</td>\n",
       "      <td>Dick Johnson Is Dead</td>\n",
       "      <td>Kirsten Johnson</td>\n",
       "      <td>NaN</td>\n",
       "      <td>United States</td>\n",
       "      <td>September 25, 2021</td>\n",
       "      <td>2020</td>\n",
       "      <td>PG-13</td>\n",
       "      <td>90 min</td>\n",
       "      <td>Documentaries</td>\n",
       "      <td>As her father nears the end of his life, filmm...</td>\n",
       "      <td>ns1</td>\n",
       "      <td>212</td>\n",
       "      <td>2.5</td>\n",
       "      <td>1362774658</td>\n",
       "      <td>3.611111</td>\n",
       "    </tr>\n",
       "    <tr>\n",
       "      <th>3</th>\n",
       "      <td>s1</td>\n",
       "      <td>Movie</td>\n",
       "      <td>Dick Johnson Is Dead</td>\n",
       "      <td>Kirsten Johnson</td>\n",
       "      <td>NaN</td>\n",
       "      <td>United States</td>\n",
       "      <td>September 25, 2021</td>\n",
       "      <td>2020</td>\n",
       "      <td>PG-13</td>\n",
       "      <td>90 min</td>\n",
       "      <td>Documentaries</td>\n",
       "      <td>As her father nears the end of his life, filmm...</td>\n",
       "      <td>ns1</td>\n",
       "      <td>261</td>\n",
       "      <td>4.0</td>\n",
       "      <td>864375361</td>\n",
       "      <td>3.611111</td>\n",
       "    </tr>\n",
       "    <tr>\n",
       "      <th>4</th>\n",
       "      <td>s1</td>\n",
       "      <td>Movie</td>\n",
       "      <td>Dick Johnson Is Dead</td>\n",
       "      <td>Kirsten Johnson</td>\n",
       "      <td>NaN</td>\n",
       "      <td>United States</td>\n",
       "      <td>September 25, 2021</td>\n",
       "      <td>2020</td>\n",
       "      <td>PG-13</td>\n",
       "      <td>90 min</td>\n",
       "      <td>Documentaries</td>\n",
       "      <td>As her father nears the end of his life, filmm...</td>\n",
       "      <td>ns1</td>\n",
       "      <td>303</td>\n",
       "      <td>3.5</td>\n",
       "      <td>1059692545</td>\n",
       "      <td>3.611111</td>\n",
       "    </tr>\n",
       "  </tbody>\n",
       "</table>\n",
       "</div>"
      ],
      "text/plain": [
       "  show_id   type                 title         director cast        country  \\\n",
       "0      s1  Movie  Dick Johnson Is Dead  Kirsten Johnson  NaN  United States   \n",
       "1      s1  Movie  Dick Johnson Is Dead  Kirsten Johnson  NaN  United States   \n",
       "2      s1  Movie  Dick Johnson Is Dead  Kirsten Johnson  NaN  United States   \n",
       "3      s1  Movie  Dick Johnson Is Dead  Kirsten Johnson  NaN  United States   \n",
       "4      s1  Movie  Dick Johnson Is Dead  Kirsten Johnson  NaN  United States   \n",
       "\n",
       "           date_added  release_year rating_x duration      listed_in  \\\n",
       "0  September 25, 2021          2020    PG-13   90 min  Documentaries   \n",
       "1  September 25, 2021          2020    PG-13   90 min  Documentaries   \n",
       "2  September 25, 2021          2020    PG-13   90 min  Documentaries   \n",
       "3  September 25, 2021          2020    PG-13   90 min  Documentaries   \n",
       "4  September 25, 2021          2020    PG-13   90 min  Documentaries   \n",
       "\n",
       "                                         description   id  userId  rating_y  \\\n",
       "0  As her father nears the end of his life, filmm...  ns1      64       4.5   \n",
       "1  As her father nears the end of his life, filmm...  ns1     189       3.5   \n",
       "2  As her father nears the end of his life, filmm...  ns1     212       2.5   \n",
       "3  As her father nears the end of his life, filmm...  ns1     261       4.0   \n",
       "4  As her father nears the end of his life, filmm...  ns1     303       3.5   \n",
       "\n",
       "    timestamp     score  \n",
       "0  1085081152  3.611111  \n",
       "1  1281649224  3.611111  \n",
       "2  1362774658  3.611111  \n",
       "3   864375361  3.611111  \n",
       "4  1059692545  3.611111  "
      ]
     },
     "execution_count": 133,
     "metadata": {},
     "output_type": "execute_result"
    }
   ],
   "source": [
    "dataset.head()\n"
   ]
  },
  {
   "cell_type": "code",
   "execution_count": 134,
   "metadata": {},
   "outputs": [
    {
     "data": {
      "text/plain": [
       "(11024289, 17)"
      ]
     },
     "execution_count": 134,
     "metadata": {},
     "output_type": "execute_result"
    }
   ],
   "source": [
    "dataset.shape"
   ]
  },
  {
   "attachments": {},
   "cell_type": "markdown",
   "metadata": {},
   "source": [
    "Ahora trabajaremos con esta tabla.\n",
    "Reemplazamos los valores nulos del campo rating por el string G."
   ]
  },
  {
   "cell_type": "code",
   "execution_count": 135,
   "metadata": {},
   "outputs": [
    {
     "data": {
      "text/plain": [
       "TV-MA      1763550\n",
       "TV-14      1505382\n",
       "R          1030752\n",
       "13+        1013673\n",
       "TV-PG       792925\n",
       "            ...   \n",
       "57 min         456\n",
       "45 min         455\n",
       "136 min        455\n",
       "130 min        450\n",
       "121 min        447\n",
       "Name: rating_x, Length: 105, dtype: int64"
      ]
     },
     "execution_count": 135,
     "metadata": {},
     "output_type": "execute_result"
    }
   ],
   "source": [
    "#Reemplazamos los valores nulos del campo rating por el string G. Pero antes verificamos la columna.\n",
    "dataset['rating_x'].value_counts()\n"
   ]
  },
  {
   "cell_type": "code",
   "execution_count": 136,
   "metadata": {},
   "outputs": [],
   "source": [
    "#Visualizamos que existen valores de minutos en la columna, ubicados inadecuadamente. Los cambiamos a donde debe.\n",
    "dataset['duration'] = np.where(dataset['rating_x'].str.contains('min'), dataset['rating_x'], dataset['duration'])\n",
    "dataset['duration'] = np.where(dataset['rating_x'].str.contains('Season'), dataset['rating_x'], dataset['duration'])\n"
   ]
  },
  {
   "cell_type": "code",
   "execution_count": 137,
   "metadata": {},
   "outputs": [],
   "source": [
    "# Y lleno esos valores de rating, como nulos.\n",
    "dataset['rating_x'] = np.where(dataset['rating_x'].str.contains('min'), np.nan, dataset['rating_x'])\n",
    "dataset['rating_x'] = np.where(dataset['rating_x'].str.contains('Season'), np.nan, dataset['rating_x'])\n"
   ]
  },
  {
   "cell_type": "code",
   "execution_count": 138,
   "metadata": {},
   "outputs": [
    {
     "data": {
      "text/plain": [
       "TV-MA        1763550\n",
       "TV-14        1505382\n",
       "R            1030752\n",
       "13+          1013673\n",
       "TV-PG         792925\n",
       "16+           740443\n",
       "ALL           607576\n",
       "18+           595262\n",
       "PG-13         533194\n",
       "PG            423771\n",
       "TV-G          367286\n",
       "TV-Y7         263114\n",
       "TV-Y          221399\n",
       "G             193933\n",
       "7+            185105\n",
       "NR            145527\n",
       "TV-NR          50608\n",
       "UNRATED        15758\n",
       "TV-Y7-FV        9244\n",
       "NC-17           2861\n",
       "AGES_18_        1492\n",
       "UR              1479\n",
       "NOT_RATE        1404\n",
       "AGES_16_         968\n",
       "ALL_AGES         500\n",
       "16               486\n",
       "NOT RATED        478\n",
       "Name: rating_x, dtype: int64"
      ]
     },
     "execution_count": 138,
     "metadata": {},
     "output_type": "execute_result"
    }
   ],
   "source": [
    "dataset['rating_x'].value_counts()"
   ]
  },
  {
   "cell_type": "code",
   "execution_count": 139,
   "metadata": {},
   "outputs": [],
   "source": [
    "\n",
    "#Vemos que existen valores NOT_RATED,NOT_RATE, UNRATED. Unificamos todos a 'Unrated'\n",
    "dataset['rating_x'].replace('UNRATED','Unrated',inplace= True)\n",
    "dataset['rating_x'].replace('NOT_RATE','Unrated',inplace= True )\n",
    "dataset['rating_x'].replace('NOT_RATED','Unrated',inplace= True)\n",
    "dataset['rating_x'].replace('NOT RATED','Unrated',inplace= True)\n",
    "dataset['rating_x'].replace('UR','Unrated',inplace= True)\n",
    "dataset['rating_x'].replace('NR','Unrated',inplace= True)\n"
   ]
  },
  {
   "cell_type": "code",
   "execution_count": 140,
   "metadata": {},
   "outputs": [],
   "source": [
    "\n",
    "#Ahora si, llenamos los nulos con G.\n",
    "dataset['rating_x'].fillna('G',inplace= True)"
   ]
  },
  {
   "cell_type": "code",
   "execution_count": 141,
   "metadata": {},
   "outputs": [
    {
     "data": {
      "text/plain": [
       "0"
      ]
     },
     "execution_count": 141,
     "metadata": {},
     "output_type": "execute_result"
    }
   ],
   "source": [
    "#Verificamos que ya no hayan nulos.\n",
    "\n",
    "dataset['rating_x'].isna().sum()"
   ]
  },
  {
   "attachments": {},
   "cell_type": "markdown",
   "metadata": {},
   "source": [
    "Las fechas deberán tener el formato AAAA-mm-dd."
   ]
  },
  {
   "cell_type": "code",
   "execution_count": 142,
   "metadata": {},
   "outputs": [
    {
     "name": "stdout",
     "output_type": "stream",
     "text": [
      "<class 'pandas.core.frame.DataFrame'>\n",
      "Int64Index: 11024289 entries, 0 to 11024288\n",
      "Data columns (total 17 columns):\n",
      " #   Column        Dtype  \n",
      "---  ------        -----  \n",
      " 0   show_id       object \n",
      " 1   type          object \n",
      " 2   title         object \n",
      " 3   director      object \n",
      " 4   cast          object \n",
      " 5   country       object \n",
      " 6   date_added    object \n",
      " 7   release_year  int64  \n",
      " 8   rating_x      object \n",
      " 9   duration      object \n",
      " 10  listed_in     object \n",
      " 11  description   object \n",
      " 12  id            object \n",
      " 13  userId        int64  \n",
      " 14  rating_y      float64\n",
      " 15  timestamp     int64  \n",
      " 16  score         float64\n",
      "dtypes: float64(2), int64(3), object(12)\n",
      "memory usage: 1.5+ GB\n"
     ]
    }
   ],
   "source": [
    "dataset.info()"
   ]
  },
  {
   "cell_type": "code",
   "execution_count": 143,
   "metadata": {},
   "outputs": [],
   "source": [
    "#Vemos que los campos son date_added y timestamp\n",
    "\n",
    "dataset['date_added'] = pd.to_datetime(dataset['date_added'])\n",
    "dataset['date_added'] = dataset['date_added'].dt.strftime('%Y-%m-%d')\n"
   ]
  },
  {
   "cell_type": "code",
   "execution_count": 144,
   "metadata": {},
   "outputs": [
    {
     "data": {
      "text/plain": [
       "0          2004-05-20 19:25:52\n",
       "1          2010-08-12 21:40:24\n",
       "2          2013-03-08 20:30:58\n",
       "3          1997-05-23 08:16:01\n",
       "4          2003-07-31 23:02:25\n",
       "                   ...        \n",
       "11024284   2013-10-19 05:38:17\n",
       "11024285   2004-11-10 03:54:53\n",
       "11024286   2009-02-21 14:00:17\n",
       "11024287   2017-07-14 18:14:59\n",
       "11024288   2005-01-31 14:36:14\n",
       "Name: timestamp2, Length: 11024289, dtype: datetime64[ns]"
      ]
     },
     "execution_count": 144,
     "metadata": {},
     "output_type": "execute_result"
    }
   ],
   "source": [
    "dataset['timestamp2'] = pd.to_datetime(dataset['timestamp'], unit=\"s\")\n",
    "dataset['timestamp2']"
   ]
  },
  {
   "cell_type": "code",
   "execution_count": 145,
   "metadata": {},
   "outputs": [
    {
     "name": "stdout",
     "output_type": "stream",
     "text": [
      "<class 'pandas.core.frame.DataFrame'>\n",
      "Int64Index: 11024289 entries, 0 to 11024288\n",
      "Data columns (total 18 columns):\n",
      " #   Column        Dtype  \n",
      "---  ------        -----  \n",
      " 0   show_id       object \n",
      " 1   type          object \n",
      " 2   title         object \n",
      " 3   director      object \n",
      " 4   cast          object \n",
      " 5   country       object \n",
      " 6   date_added    object \n",
      " 7   release_year  int64  \n",
      " 8   rating_x      object \n",
      " 9   duration      object \n",
      " 10  listed_in     object \n",
      " 11  description   object \n",
      " 12  id            object \n",
      " 13  userId        int64  \n",
      " 14  rating_y      float64\n",
      " 15  timestamp     int64  \n",
      " 16  score         float64\n",
      " 17  timestamp2    object \n",
      "dtypes: float64(2), int64(3), object(13)\n",
      "memory usage: 1.6+ GB\n"
     ]
    }
   ],
   "source": [
    "dataset['timestamp2'] = dataset['timestamp2'].dt.strftime('%Y-%m-%d')\n",
    "dataset.info()"
   ]
  },
  {
   "cell_type": "code",
   "execution_count": 146,
   "metadata": {},
   "outputs": [
    {
     "data": {
      "text/plain": [
       "2000-11-20    40265\n",
       "2005-03-22    33342\n",
       "1999-12-11    30459\n",
       "2005-03-23    25113\n",
       "1999-12-13    24077\n",
       "              ...  \n",
       "1998-10-28        2\n",
       "1996-03-24        1\n",
       "1996-03-23        1\n",
       "1999-05-12        1\n",
       "1999-06-06        1\n",
       "Name: timestamp2, Length: 7751, dtype: int64"
      ]
     },
     "execution_count": 146,
     "metadata": {},
     "output_type": "execute_result"
    }
   ],
   "source": [
    "dataset['timestamp2'].value_counts()"
   ]
  },
  {
   "cell_type": "code",
   "execution_count": 147,
   "metadata": {},
   "outputs": [],
   "source": [
    "# Dropeamos el primer timestamp, y renombramos al segundo.\n",
    "dataset.drop('timestamp', axis = 1,inplace = True)\n",
    "dataset.rename(columns = {'timestamp2':'timestamp'},inplace = True)"
   ]
  },
  {
   "cell_type": "code",
   "execution_count": 148,
   "metadata": {},
   "outputs": [
    {
     "name": "stdout",
     "output_type": "stream",
     "text": [
      "<class 'pandas.core.frame.DataFrame'>\n",
      "Int64Index: 11024289 entries, 0 to 11024288\n",
      "Data columns (total 17 columns):\n",
      " #   Column        Dtype  \n",
      "---  ------        -----  \n",
      " 0   show_id       object \n",
      " 1   type          object \n",
      " 2   title         object \n",
      " 3   director      object \n",
      " 4   cast          object \n",
      " 5   country       object \n",
      " 6   date_added    object \n",
      " 7   release_year  int64  \n",
      " 8   rating_x      object \n",
      " 9   duration      object \n",
      " 10  listed_in     object \n",
      " 11  description   object \n",
      " 12  id            object \n",
      " 13  userId        int64  \n",
      " 14  rating_y      float64\n",
      " 15  score         float64\n",
      " 16  timestamp     object \n",
      "dtypes: float64(2), int64(2), object(13)\n",
      "memory usage: 1.5+ GB\n"
     ]
    }
   ],
   "source": [
    "dataset.info()"
   ]
  },
  {
   "attachments": {},
   "cell_type": "markdown",
   "metadata": {},
   "source": [
    "Los campos de texto deberán estar en minúsculas, sin excepciones."
   ]
  },
  {
   "cell_type": "code",
   "execution_count": 149,
   "metadata": {},
   "outputs": [],
   "source": [
    "dataset['type'] = dataset['type'].str.lower()\n",
    "dataset['title'] = dataset['title'].str.lower()\n",
    "dataset['director'] = dataset['director'].str.lower()\n",
    "dataset['cast'] = dataset['cast'].str.lower()\n",
    "dataset['listed_in'] = dataset['listed_in'].str.lower()\n",
    "dataset['country'] = dataset['country'].str.lower()\n",
    "dataset['rating_x'] = dataset['rating_x'].str.lower()\n",
    "dataset['duration'] = dataset['duration'].str.lower()\n",
    "dataset['description'] = dataset['description'].str.lower()\n",
    "\t\n"
   ]
  },
  {
   "cell_type": "code",
   "execution_count": 150,
   "metadata": {},
   "outputs": [
    {
     "data": {
      "text/plain": [
       "0                     NaN\n",
       "1                     NaN\n",
       "2                     NaN\n",
       "3                     NaN\n",
       "4                     NaN\n",
       "                ...      \n",
       "11024284    charlie tahan\n",
       "11024285    charlie tahan\n",
       "11024286    charlie tahan\n",
       "11024287    charlie tahan\n",
       "11024288    charlie tahan\n",
       "Name: cast, Length: 11024289, dtype: object"
      ]
     },
     "execution_count": 150,
     "metadata": {},
     "output_type": "execute_result"
    }
   ],
   "source": [
    "#Verificamos el campo actor\n",
    "dataset['cast']"
   ]
  },
  {
   "cell_type": "code",
   "execution_count": 151,
   "metadata": {},
   "outputs": [
    {
     "data": {
      "text/plain": [
       "0                Sin Dato\n",
       "1                Sin Dato\n",
       "2                Sin Dato\n",
       "3                Sin Dato\n",
       "4                Sin Dato\n",
       "                ...      \n",
       "11024284    charlie tahan\n",
       "11024285    charlie tahan\n",
       "11024286    charlie tahan\n",
       "11024287    charlie tahan\n",
       "11024288    charlie tahan\n",
       "Name: cast, Length: 11024289, dtype: object"
      ]
     },
     "execution_count": 151,
     "metadata": {},
     "output_type": "execute_result"
    }
   ],
   "source": [
    "#Vemos que hay nulos, los llenamos con 'Sin Dato'.\n",
    "dataset['cast'].fillna('Sin Dato',inplace= True)\n",
    "dataset['cast']"
   ]
  },
  {
   "attachments": {},
   "cell_type": "markdown",
   "metadata": {},
   "source": [
    "El campo duration debe convertirse en dos campos: duration_int y duration_type. El primero será un integer y el segundo un string indicando la unidad de medición de duración: min (minutos) o season (temporadas)"
   ]
  },
  {
   "cell_type": "code",
   "execution_count": 152,
   "metadata": {},
   "outputs": [],
   "source": [
    "#dataset['duration'].fillna('Sin Dato',inplace = True)"
   ]
  },
  {
   "cell_type": "code",
   "execution_count": 153,
   "metadata": {},
   "outputs": [],
   "source": [
    "#Extraemos el duration int, del duration.\n",
    "dataset['duration_int'] = dataset['duration'].str.extract('(\\d+)')\n"
   ]
  },
  {
   "cell_type": "code",
   "execution_count": 154,
   "metadata": {},
   "outputs": [],
   "source": [
    "#Convertimos a integer el duration int, pero antes llenamos los nulos con 0\n",
    "dataset['duration_int'].replace(np.nan,0, inplace= True)\n",
    "#Convertimos a int.\n",
    "dataset['duration_int'] = dataset['duration_int'].astype(int) \n"
   ]
  },
  {
   "cell_type": "code",
   "execution_count": 155,
   "metadata": {},
   "outputs": [],
   "source": [
    "#Extraemos el duration type y lo convertimos a string\n",
    "dataset['duration_type'] = dataset['duration'].str.extract('([a-zA-Z ]+)', expand=False).str.strip()\n",
    "dataset['duration_type'] = dataset['duration_type'].astype(str)\n"
   ]
  },
  {
   "cell_type": "code",
   "execution_count": 156,
   "metadata": {},
   "outputs": [
    {
     "data": {
      "text/plain": [
       "min        7529409\n",
       "season     1934150\n",
       "seasons    1107371\n",
       "nan         453359\n",
       "Name: duration_type, dtype: int64"
      ]
     },
     "execution_count": 156,
     "metadata": {},
     "output_type": "execute_result"
    }
   ],
   "source": [
    "#Vemos la informacion de la columna duration_type.\n",
    "dataset['duration_type'].value_counts()\n",
    "#Vemos que hay min, season, seasons, y nan.\n"
   ]
  },
  {
   "cell_type": "code",
   "execution_count": 157,
   "metadata": {},
   "outputs": [],
   "source": [
    "#Reemplazamos los valores nan por 'min' si es pelicula, y 'season' si es serie. \n",
    "#dataset['duration_type'].replace('nan','Sin Dato', inplace = True)\n",
    "\n",
    "dataset['duration_type'] = np.where((dataset['duration_type'] == 'nan') & (dataset['type'] == 'movie'),'min',dataset['duration_type'])\n",
    "dataset['duration_type'] = np.where((dataset['duration_type'] == 'nan') & (dataset['type'] == 'tv show'),'season',dataset['duration_type'])"
   ]
  },
  {
   "cell_type": "code",
   "execution_count": 158,
   "metadata": {},
   "outputs": [],
   "source": [
    "#Reemplazamos seasons por season.\n",
    "dataset['duration_type'].replace('seasons','season', inplace = True)"
   ]
  },
  {
   "cell_type": "code",
   "execution_count": 159,
   "metadata": {},
   "outputs": [
    {
     "data": {
      "text/plain": [
       "min       7867507\n",
       "season    3156782\n",
       "Name: duration_type, dtype: int64"
      ]
     },
     "execution_count": 159,
     "metadata": {},
     "output_type": "execute_result"
    }
   ],
   "source": [
    "#Verificamos\n",
    "dataset['duration_type'].value_counts()"
   ]
  },
  {
   "cell_type": "code",
   "execution_count": 160,
   "metadata": {},
   "outputs": [
    {
     "data": {
      "text/plain": [
       "0"
      ]
     },
     "execution_count": 160,
     "metadata": {},
     "output_type": "execute_result"
    }
   ],
   "source": [
    "#Antes de guardar el archivo, realizaremos una copia del dataset, en el que solo consideramos el score de cada pelicula. \n",
    "# El dataset más grande lo guardamos aparte.\n",
    "dataset['score'].isna().sum()\n",
    "#0"
   ]
  },
  {
   "cell_type": "code",
   "execution_count": 161,
   "metadata": {},
   "outputs": [],
   "source": [
    "datasetp = dataset.copy()"
   ]
  },
  {
   "cell_type": "code",
   "execution_count": 162,
   "metadata": {},
   "outputs": [
    {
     "data": {
      "text/plain": [
       "(11024289, 19)"
      ]
     },
     "execution_count": 162,
     "metadata": {},
     "output_type": "execute_result"
    }
   ],
   "source": [
    "# Verificamos la cantidad de filas\n",
    "datasetp.shape"
   ]
  },
  {
   "cell_type": "code",
   "execution_count": 163,
   "metadata": {},
   "outputs": [],
   "source": [
    "#Como solo deseamos la columna score, dropeamos las demás.\n",
    "datasetp.drop('userId', axis = 1,inplace = True)\n",
    "datasetp.drop('rating_y', axis = 1,inplace = True)\n",
    "datasetp.drop('timestamp',axis = 1,inplace = True)"
   ]
  },
  {
   "cell_type": "code",
   "execution_count": 164,
   "metadata": {},
   "outputs": [],
   "source": [
    "#Dropeamos los duplicados. Tomamos en cuenta el campo id, el que es unico por plataforma.\n",
    "datasetp.drop_duplicates(subset=['id'], keep='first', inplace = True, ignore_index=True)"
   ]
  },
  {
   "cell_type": "code",
   "execution_count": 165,
   "metadata": {},
   "outputs": [
    {
     "data": {
      "text/html": [
       "<div>\n",
       "<style scoped>\n",
       "    .dataframe tbody tr th:only-of-type {\n",
       "        vertical-align: middle;\n",
       "    }\n",
       "\n",
       "    .dataframe tbody tr th {\n",
       "        vertical-align: top;\n",
       "    }\n",
       "\n",
       "    .dataframe thead th {\n",
       "        text-align: right;\n",
       "    }\n",
       "</style>\n",
       "<table border=\"1\" class=\"dataframe\">\n",
       "  <thead>\n",
       "    <tr style=\"text-align: right;\">\n",
       "      <th></th>\n",
       "      <th>show_id</th>\n",
       "      <th>type</th>\n",
       "      <th>title</th>\n",
       "      <th>director</th>\n",
       "      <th>cast</th>\n",
       "      <th>country</th>\n",
       "      <th>date_added</th>\n",
       "      <th>release_year</th>\n",
       "      <th>rating_x</th>\n",
       "      <th>duration</th>\n",
       "      <th>listed_in</th>\n",
       "      <th>description</th>\n",
       "      <th>id</th>\n",
       "      <th>score</th>\n",
       "      <th>duration_int</th>\n",
       "      <th>duration_type</th>\n",
       "    </tr>\n",
       "  </thead>\n",
       "  <tbody>\n",
       "    <tr>\n",
       "      <th>0</th>\n",
       "      <td>s1</td>\n",
       "      <td>movie</td>\n",
       "      <td>dick johnson is dead</td>\n",
       "      <td>kirsten johnson</td>\n",
       "      <td>Sin Dato</td>\n",
       "      <td>united states</td>\n",
       "      <td>2021-09-25</td>\n",
       "      <td>2020</td>\n",
       "      <td>pg-13</td>\n",
       "      <td>90 min</td>\n",
       "      <td>documentaries</td>\n",
       "      <td>as her father nears the end of his life, filmm...</td>\n",
       "      <td>ns1</td>\n",
       "      <td>3.611111</td>\n",
       "      <td>90</td>\n",
       "      <td>min</td>\n",
       "    </tr>\n",
       "    <tr>\n",
       "      <th>1</th>\n",
       "      <td>s2</td>\n",
       "      <td>tv show</td>\n",
       "      <td>blood &amp; water</td>\n",
       "      <td>NaN</td>\n",
       "      <td>ama qamata, khosi ngema, gail mabalane, thaban...</td>\n",
       "      <td>south africa</td>\n",
       "      <td>2021-09-24</td>\n",
       "      <td>2021</td>\n",
       "      <td>tv-ma</td>\n",
       "      <td>2 seasons</td>\n",
       "      <td>international tv shows, tv dramas, tv mysteries</td>\n",
       "      <td>after crossing paths at a party, a cape town t...</td>\n",
       "      <td>ns2</td>\n",
       "      <td>3.552632</td>\n",
       "      <td>2</td>\n",
       "      <td>season</td>\n",
       "    </tr>\n",
       "    <tr>\n",
       "      <th>2</th>\n",
       "      <td>s3</td>\n",
       "      <td>tv show</td>\n",
       "      <td>ganglands</td>\n",
       "      <td>julien leclercq</td>\n",
       "      <td>sami bouajila, tracy gotoas, samuel jouy, nabi...</td>\n",
       "      <td>NaN</td>\n",
       "      <td>2021-09-24</td>\n",
       "      <td>2021</td>\n",
       "      <td>tv-ma</td>\n",
       "      <td>1 season</td>\n",
       "      <td>crime tv shows, international tv shows, tv act...</td>\n",
       "      <td>to protect his family from a powerful drug lor...</td>\n",
       "      <td>ns3</td>\n",
       "      <td>3.597938</td>\n",
       "      <td>1</td>\n",
       "      <td>season</td>\n",
       "    </tr>\n",
       "    <tr>\n",
       "      <th>3</th>\n",
       "      <td>s4</td>\n",
       "      <td>tv show</td>\n",
       "      <td>jailbirds new orleans</td>\n",
       "      <td>NaN</td>\n",
       "      <td>Sin Dato</td>\n",
       "      <td>NaN</td>\n",
       "      <td>2021-09-24</td>\n",
       "      <td>2021</td>\n",
       "      <td>tv-ma</td>\n",
       "      <td>1 season</td>\n",
       "      <td>docuseries, reality tv</td>\n",
       "      <td>feuds, flirtations and toilet talk go down amo...</td>\n",
       "      <td>ns4</td>\n",
       "      <td>3.561616</td>\n",
       "      <td>1</td>\n",
       "      <td>season</td>\n",
       "    </tr>\n",
       "    <tr>\n",
       "      <th>4</th>\n",
       "      <td>s5</td>\n",
       "      <td>tv show</td>\n",
       "      <td>kota factory</td>\n",
       "      <td>NaN</td>\n",
       "      <td>mayur more, jitendra kumar, ranjan raj, alam k...</td>\n",
       "      <td>india</td>\n",
       "      <td>2021-09-24</td>\n",
       "      <td>2021</td>\n",
       "      <td>tv-ma</td>\n",
       "      <td>2 seasons</td>\n",
       "      <td>international tv shows, romantic tv shows, tv ...</td>\n",
       "      <td>in a city of coaching centers known to train i...</td>\n",
       "      <td>ns5</td>\n",
       "      <td>3.593023</td>\n",
       "      <td>2</td>\n",
       "      <td>season</td>\n",
       "    </tr>\n",
       "  </tbody>\n",
       "</table>\n",
       "</div>"
      ],
      "text/plain": [
       "  show_id     type                  title         director  \\\n",
       "0      s1    movie   dick johnson is dead  kirsten johnson   \n",
       "1      s2  tv show          blood & water              NaN   \n",
       "2      s3  tv show              ganglands  julien leclercq   \n",
       "3      s4  tv show  jailbirds new orleans              NaN   \n",
       "4      s5  tv show           kota factory              NaN   \n",
       "\n",
       "                                                cast        country  \\\n",
       "0                                           Sin Dato  united states   \n",
       "1  ama qamata, khosi ngema, gail mabalane, thaban...   south africa   \n",
       "2  sami bouajila, tracy gotoas, samuel jouy, nabi...            NaN   \n",
       "3                                           Sin Dato            NaN   \n",
       "4  mayur more, jitendra kumar, ranjan raj, alam k...          india   \n",
       "\n",
       "   date_added  release_year rating_x   duration  \\\n",
       "0  2021-09-25          2020    pg-13     90 min   \n",
       "1  2021-09-24          2021    tv-ma  2 seasons   \n",
       "2  2021-09-24          2021    tv-ma   1 season   \n",
       "3  2021-09-24          2021    tv-ma   1 season   \n",
       "4  2021-09-24          2021    tv-ma  2 seasons   \n",
       "\n",
       "                                           listed_in  \\\n",
       "0                                      documentaries   \n",
       "1    international tv shows, tv dramas, tv mysteries   \n",
       "2  crime tv shows, international tv shows, tv act...   \n",
       "3                             docuseries, reality tv   \n",
       "4  international tv shows, romantic tv shows, tv ...   \n",
       "\n",
       "                                         description   id     score  \\\n",
       "0  as her father nears the end of his life, filmm...  ns1  3.611111   \n",
       "1  after crossing paths at a party, a cape town t...  ns2  3.552632   \n",
       "2  to protect his family from a powerful drug lor...  ns3  3.597938   \n",
       "3  feuds, flirtations and toilet talk go down amo...  ns4  3.561616   \n",
       "4  in a city of coaching centers known to train i...  ns5  3.593023   \n",
       "\n",
       "   duration_int duration_type  \n",
       "0            90           min  \n",
       "1             2        season  \n",
       "2             1        season  \n",
       "3             1        season  \n",
       "4             2        season  "
      ]
     },
     "execution_count": 165,
     "metadata": {},
     "output_type": "execute_result"
    }
   ],
   "source": [
    "datasetp.head()"
   ]
  },
  {
   "cell_type": "code",
   "execution_count": 166,
   "metadata": {},
   "outputs": [
    {
     "data": {
      "text/plain": [
       "(22998, 16)"
      ]
     },
     "execution_count": 166,
     "metadata": {},
     "output_type": "execute_result"
    }
   ],
   "source": [
    "#Verificamos la cantidad de filas. Ahora tengo el mismo tamaño inicial en filas.\n",
    "datasetp.shape"
   ]
  },
  {
   "attachments": {},
   "cell_type": "markdown",
   "metadata": {},
   "source": [
    "Guardamos el archivo pequeño para realizar el analisis exploratorio de datos, en nuestra carpeta de la API. Consideramos los Nans todavía."
   ]
  },
  {
   "cell_type": "code",
   "execution_count": 168,
   "metadata": {},
   "outputs": [],
   "source": [
    "\n",
    "datasetp.to_csv('./ProjectML_OPS_API/df.csv')\n"
   ]
  },
  {
   "cell_type": "code",
   "execution_count": 169,
   "metadata": {},
   "outputs": [],
   "source": [
    "#Guardamos el archivo con ciertas columnas para realizar el machine learning, para que ocupe menos espacio. Usamos compresion gzip para que ocupe menos espacio.\n",
    "dataset_f = dataset [[\"userId\",\"rating_y\",\"id\",'title','type']]\n",
    "dataset_f.to_csv('data.csv', compression='gzip')"
   ]
  },
  {
   "cell_type": "code",
   "execution_count": null,
   "metadata": {},
   "outputs": [],
   "source": [
    "#Importante: Subimos el archivo a Deta Drive.\n",
    "\n",
    "#Primero realizamos un pip install Deta, para manejar el drive. \n",
    "#Nos ubicamos en la carpeta donde tenemos nuestros archivos que queremos cargar.\n",
    "from deta import Deta \n",
    "#Nos conectamos a Deta con nuestro data key.\n",
    "deta = Deta(\"e0t3zaGELWHa_JjY9Bw5uJusD698dB1Qxqujkpo3h3SQy\")\n",
    "print(deta)\n",
    "#Nos conectamos al drive llamado Data creado\n",
    "drive = deta.Drive(\"data\")\n",
    "#Con esto subimos el dataset data.csv\n",
    "drive.put('data.csv', path='./data.csv')\n"
   ]
  },
  {
   "attachments": {},
   "cell_type": "markdown",
   "metadata": {},
   "source": [
    "Tiempo de ejecución del notebook: Alrededor de 15 min."
   ]
  }
 ],
 "metadata": {
  "kernelspec": {
   "display_name": "Python 3",
   "language": "python",
   "name": "python3"
  },
  "language_info": {
   "codemirror_mode": {
    "name": "ipython",
    "version": 3
   },
   "file_extension": ".py",
   "mimetype": "text/x-python",
   "name": "python",
   "nbconvert_exporter": "python",
   "pygments_lexer": "ipython3",
   "version": "3.10.6"
  },
  "orig_nbformat": 4,
  "vscode": {
   "interpreter": {
    "hash": "8c3d4d9970fc5c09c50d9318a9c7fbf4d0159e4b28833276f5678ee22bded273"
   }
  }
 },
 "nbformat": 4,
 "nbformat_minor": 2
}
