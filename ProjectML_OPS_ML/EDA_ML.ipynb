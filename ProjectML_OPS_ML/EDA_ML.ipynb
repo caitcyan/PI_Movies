{
 "cells": [
  {
   "attachments": {},
   "cell_type": "markdown",
   "metadata": {},
   "source": [
    "### Machine learning: Tercera parte\n",
    "\n",
    "Vamos a crear un modelo de sistema de recomendación, pero antes vamos a realizar un EDA a los datos."
   ]
  },
  {
   "attachments": {},
   "cell_type": "markdown",
   "metadata": {},
   "source": [
    "### Análisis exploratorio de los datos.\n"
   ]
  },
  {
   "cell_type": "markdown",
   "metadata": {},
   "source": [
    "Antes de realizar el modelo de machine learning, vamos a verificar las columnas involucradas.\n",
    "Columnas userId, rating_y y id.\n"
   ]
  },
  {
   "cell_type": "code",
   "execution_count": 1,
   "metadata": {},
   "outputs": [],
   "source": [
    "\n",
    "# Importamos las librerías necesarias. \n",
    "import pandas as pd\n",
    "import numpy as np\n",
    "import matplotlib.pyplot as plt\n",
    "import seaborn as sns\n",
    "from deta import Deta\n",
    "from deta import Drive\n",
    "import gc #garbage collector\n",
    "\n",
    "sns.set()\n"
   ]
  },
  {
   "cell_type": "code",
   "execution_count": 5,
   "metadata": {},
   "outputs": [],
   "source": [
    "#Nos conectamos a la base de datos alojada en Deta Drive.\n",
    "# Iteramos para guardar espacio en el disco\n",
    "deta = Deta(\"e0t3zaGELWHa_JjY9Bw5uJusD698dB1Qxqujkpo3h3SQy\")\n",
    "drive = deta.Drive(\"data\")\n",
    "large_file = drive.get('data.csv')\n",
    "with open(\"data.csv\", \"wb+\") as f:\n",
    "  for chunk in large_file.iter_chunks(4096):\n",
    "      f.write(chunk)\n",
    "  large_file.close()"
   ]
  },
  {
   "cell_type": "code",
   "execution_count": 2,
   "metadata": {},
   "outputs": [
    {
     "data": {
      "text/html": [
       "<div>\n",
       "<style scoped>\n",
       "    .dataframe tbody tr th:only-of-type {\n",
       "        vertical-align: middle;\n",
       "    }\n",
       "\n",
       "    .dataframe tbody tr th {\n",
       "        vertical-align: top;\n",
       "    }\n",
       "\n",
       "    .dataframe thead th {\n",
       "        text-align: right;\n",
       "    }\n",
       "</style>\n",
       "<table border=\"1\" class=\"dataframe\">\n",
       "  <thead>\n",
       "    <tr style=\"text-align: right;\">\n",
       "      <th></th>\n",
       "      <th>type</th>\n",
       "      <th>title</th>\n",
       "      <th>id</th>\n",
       "      <th>userId</th>\n",
       "      <th>rating_y</th>\n",
       "    </tr>\n",
       "  </thead>\n",
       "  <tbody>\n",
       "    <tr>\n",
       "      <th>0</th>\n",
       "      <td>movie</td>\n",
       "      <td>dick johnson is dead</td>\n",
       "      <td>ns1</td>\n",
       "      <td>64</td>\n",
       "      <td>4.5</td>\n",
       "    </tr>\n",
       "    <tr>\n",
       "      <th>1</th>\n",
       "      <td>movie</td>\n",
       "      <td>dick johnson is dead</td>\n",
       "      <td>ns1</td>\n",
       "      <td>189</td>\n",
       "      <td>3.5</td>\n",
       "    </tr>\n",
       "    <tr>\n",
       "      <th>2</th>\n",
       "      <td>movie</td>\n",
       "      <td>dick johnson is dead</td>\n",
       "      <td>ns1</td>\n",
       "      <td>212</td>\n",
       "      <td>2.5</td>\n",
       "    </tr>\n",
       "    <tr>\n",
       "      <th>3</th>\n",
       "      <td>movie</td>\n",
       "      <td>dick johnson is dead</td>\n",
       "      <td>ns1</td>\n",
       "      <td>261</td>\n",
       "      <td>4.0</td>\n",
       "    </tr>\n",
       "    <tr>\n",
       "      <th>4</th>\n",
       "      <td>movie</td>\n",
       "      <td>dick johnson is dead</td>\n",
       "      <td>ns1</td>\n",
       "      <td>303</td>\n",
       "      <td>3.5</td>\n",
       "    </tr>\n",
       "  </tbody>\n",
       "</table>\n",
       "</div>"
      ],
      "text/plain": [
       "    type                 title   id  userId  rating_y\n",
       "0  movie  dick johnson is dead  ns1      64       4.5\n",
       "1  movie  dick johnson is dead  ns1     189       3.5\n",
       "2  movie  dick johnson is dead  ns1     212       2.5\n",
       "3  movie  dick johnson is dead  ns1     261       4.0\n",
       "4  movie  dick johnson is dead  ns1     303       3.5"
      ]
     },
     "execution_count": 2,
     "metadata": {},
     "output_type": "execute_result"
    }
   ],
   "source": [
    "#Leemos el archivo\n",
    "df_ML = pd.read_csv('./Streamlit/data.csv',usecols=[\"userId\",\"rating_y\",\"id\",'title','type'], compression='gzip')\n",
    "df_ML.head()\n"
   ]
  },
  {
   "cell_type": "code",
   "execution_count": 3,
   "metadata": {},
   "outputs": [
    {
     "data": {
      "text/plain": [
       "0"
      ]
     },
     "execution_count": 3,
     "metadata": {},
     "output_type": "execute_result"
    }
   ],
   "source": [
    "#Filtramos solo las peliculas\n",
    "df_ML = df_ML[df_ML['type']=='movie']\n",
    "#Convertimos las demás columnas\n",
    "df_ML['userId'] = df_ML['userId'].astype(int)\n",
    "df_ML['id'] = df_ML['id'].astype(str)\n",
    "df_ML['rating_y'] = df_ML['rating_y'].astype(float)\n",
    "\n",
    "\n",
    "gc.collect()"
   ]
  },
  {
   "cell_type": "code",
   "execution_count": 4,
   "metadata": {},
   "outputs": [
    {
     "data": {
      "text/plain": [
       "(7897251, 4)"
      ]
     },
     "execution_count": 4,
     "metadata": {},
     "output_type": "execute_result"
    }
   ],
   "source": [
    "#Dado que ya tenemos las peliculas, ya no necesitamos la columna type.\n",
    "df_ML.drop('type',axis= 1, inplace= True)\n",
    "df_ML.shape"
   ]
  },
  {
   "cell_type": "code",
   "execution_count": 5,
   "metadata": {},
   "outputs": [
    {
     "name": "stdout",
     "output_type": "stream",
     "text": [
      "114301\n"
     ]
    }
   ],
   "source": [
    "#Cantidad de usuarios unicos\n",
    "print(len(df_ML['userId'].unique()))"
   ]
  },
  {
   "cell_type": "code",
   "execution_count": 6,
   "metadata": {},
   "outputs": [
    {
     "data": {
      "text/html": [
       "<div>\n",
       "<style scoped>\n",
       "    .dataframe tbody tr th:only-of-type {\n",
       "        vertical-align: middle;\n",
       "    }\n",
       "\n",
       "    .dataframe tbody tr th {\n",
       "        vertical-align: top;\n",
       "    }\n",
       "\n",
       "    .dataframe thead th {\n",
       "        text-align: right;\n",
       "    }\n",
       "</style>\n",
       "<table border=\"1\" class=\"dataframe\">\n",
       "  <thead>\n",
       "    <tr style=\"text-align: right;\">\n",
       "      <th></th>\n",
       "      <th>title</th>\n",
       "      <th>id</th>\n",
       "      <th>rating_y</th>\n",
       "    </tr>\n",
       "    <tr>\n",
       "      <th>userId</th>\n",
       "      <th></th>\n",
       "      <th></th>\n",
       "      <th></th>\n",
       "    </tr>\n",
       "  </thead>\n",
       "  <tbody>\n",
       "    <tr>\n",
       "      <th>1</th>\n",
       "      <td>17</td>\n",
       "      <td>17</td>\n",
       "      <td>17</td>\n",
       "    </tr>\n",
       "    <tr>\n",
       "      <th>2</th>\n",
       "      <td>11</td>\n",
       "      <td>11</td>\n",
       "      <td>11</td>\n",
       "    </tr>\n",
       "    <tr>\n",
       "      <th>3</th>\n",
       "      <td>8</td>\n",
       "      <td>8</td>\n",
       "      <td>8</td>\n",
       "    </tr>\n",
       "    <tr>\n",
       "      <th>4</th>\n",
       "      <td>48</td>\n",
       "      <td>48</td>\n",
       "      <td>48</td>\n",
       "    </tr>\n",
       "    <tr>\n",
       "      <th>5</th>\n",
       "      <td>17</td>\n",
       "      <td>17</td>\n",
       "      <td>17</td>\n",
       "    </tr>\n",
       "  </tbody>\n",
       "</table>\n",
       "</div>"
      ],
      "text/plain": [
       "        title  id  rating_y\n",
       "userId                     \n",
       "1          17  17        17\n",
       "2          11  11        11\n",
       "3           8   8         8\n",
       "4          48  48        48\n",
       "5          17  17        17"
      ]
     },
     "execution_count": 6,
     "metadata": {},
     "output_type": "execute_result"
    }
   ],
   "source": [
    "# Calificaciones de películas por usuario\n",
    "df_by_users = df_ML.groupby(['userId']).count()\n",
    "df_by_users.head()"
   ]
  },
  {
   "cell_type": "code",
   "execution_count": 7,
   "metadata": {},
   "outputs": [
    {
     "data": {
      "image/png": "[encoded data removed]",
      "text/plain": [
       "<Figure size 640x480 with 1 Axes>"
      ]
     },
     "metadata": {},
     "output_type": "display_data"
    }
   ],
   "source": [
    "plt.hist(df_by_users.rating_y, log= True)\n",
    "plt.title('Calificaciones por usuario')\n",
    "plt.show()"
   ]
  },
  {
   "cell_type": "code",
   "execution_count": 8,
   "metadata": {},
   "outputs": [
    {
     "data": {
      "image/png": "[encoded data removed]",
      "text/plain": [
       "<Figure size 640x480 with 1 Axes>"
      ]
     },
     "metadata": {},
     "output_type": "display_data"
    }
   ],
   "source": [
    "# Observamos la distribución de las calificaciones\n",
    "\n",
    "df_ML['rating_y'].hist()\n",
    "plt.title('Distribución de calificaciones')\n",
    "plt.show()"
   ]
  },
  {
   "cell_type": "code",
   "execution_count": 9,
   "metadata": {},
   "outputs": [
    {
     "name": "stdout",
     "output_type": "stream",
     "text": [
      "from other worlds\n"
     ]
    }
   ],
   "source": [
    "#Peliculas con mas y menos calificaciones.\n",
    "df_by_movies = df_ML.groupby(['id']).count()\n",
    "df_by_movies.head()\n",
    "max = df_by_movies['userId'].idxmax()\n",
    "print(df_ML.title[df_ML.id == max].iloc[0])"
   ]
  },
  {
   "cell_type": "code",
   "execution_count": 10,
   "metadata": {},
   "outputs": [
    {
     "name": "stdout",
     "output_type": "stream",
     "text": [
      "mitzi (nbc 1968)\n"
     ]
    }
   ],
   "source": [
    "# Pelicula con menos calificaciones\n",
    "min = df_by_movies['userId'].idxmin()\n",
    "print(df_ML.title[df_ML.id == min].iloc[0])"
   ]
  },
  {
   "cell_type": "code",
   "execution_count": 11,
   "metadata": {},
   "outputs": [],
   "source": [
    "# 10 peliculas mas populares.\n",
    "df_by_movies = df_ML.groupby(['id']).count()\n",
    "df_by_movies.sort_values('userId', ascending = False, inplace = True)\n",
    "df_by_movies['Vistos'] = df_by_movies['userId']\n",
    "df_by_movies.drop(columns = ['userId','rating_y','title'], inplace = True)"
   ]
  },
  {
   "cell_type": "code",
   "execution_count": 12,
   "metadata": {},
   "outputs": [
    {
     "data": {
      "text/html": [
       "<div>\n",
       "<style scoped>\n",
       "    .dataframe tbody tr th:only-of-type {\n",
       "        vertical-align: middle;\n",
       "    }\n",
       "\n",
       "    .dataframe tbody tr th {\n",
       "        vertical-align: top;\n",
       "    }\n",
       "\n",
       "    .dataframe thead th {\n",
       "        text-align: right;\n",
       "    }\n",
       "</style>\n",
       "<table border=\"1\" class=\"dataframe\">\n",
       "  <thead>\n",
       "    <tr style=\"text-align: right;\">\n",
       "      <th></th>\n",
       "      <th>id</th>\n",
       "      <th>Vistos</th>\n",
       "      <th>title</th>\n",
       "    </tr>\n",
       "  </thead>\n",
       "  <tbody>\n",
       "    <tr>\n",
       "      <th>0</th>\n",
       "      <td>as4197</td>\n",
       "      <td>576</td>\n",
       "      <td>from other worlds</td>\n",
       "    </tr>\n",
       "    <tr>\n",
       "      <th>576</th>\n",
       "      <td>as9065</td>\n",
       "      <td>560</td>\n",
       "      <td>the organization</td>\n",
       "    </tr>\n",
       "    <tr>\n",
       "      <th>1136</th>\n",
       "      <td>ns7279</td>\n",
       "      <td>558</td>\n",
       "      <td>leapfrog: sing-along, read-along</td>\n",
       "    </tr>\n",
       "    <tr>\n",
       "      <th>1694</th>\n",
       "      <td>as9469</td>\n",
       "      <td>556</td>\n",
       "      <td>all good things</td>\n",
       "    </tr>\n",
       "    <tr>\n",
       "      <th>2250</th>\n",
       "      <td>as6998</td>\n",
       "      <td>556</td>\n",
       "      <td>sideways</td>\n",
       "    </tr>\n",
       "    <tr>\n",
       "      <th>2806</th>\n",
       "      <td>hs582</td>\n",
       "      <td>554</td>\n",
       "      <td>battle over britney: the conservatorship hearing</td>\n",
       "    </tr>\n",
       "    <tr>\n",
       "      <th>3360</th>\n",
       "      <td>as4889</td>\n",
       "      <td>554</td>\n",
       "      <td>a stone in the water</td>\n",
       "    </tr>\n",
       "    <tr>\n",
       "      <th>3914</th>\n",
       "      <td>ns1847</td>\n",
       "      <td>553</td>\n",
       "      <td>el-khawaga's dilemma</td>\n",
       "    </tr>\n",
       "    <tr>\n",
       "      <th>4467</th>\n",
       "      <td>ds552</td>\n",
       "      <td>552</td>\n",
       "      <td>national treasure</td>\n",
       "    </tr>\n",
       "    <tr>\n",
       "      <th>5019</th>\n",
       "      <td>ns5992</td>\n",
       "      <td>552</td>\n",
       "      <td>14 cameras</td>\n",
       "    </tr>\n",
       "  </tbody>\n",
       "</table>\n",
       "</div>"
      ],
      "text/plain": [
       "          id  Vistos                                             title\n",
       "0     as4197     576                                 from other worlds\n",
       "576   as9065     560                                  the organization\n",
       "1136  ns7279     558                  leapfrog: sing-along, read-along\n",
       "1694  as9469     556                                   all good things\n",
       "2250  as6998     556                                          sideways\n",
       "2806   hs582     554  battle over britney: the conservatorship hearing\n",
       "3360  as4889     554                              a stone in the water\n",
       "3914  ns1847     553                              el-khawaga's dilemma\n",
       "4467   ds552     552                                 national treasure\n",
       "5019  ns5992     552                                        14 cameras"
      ]
     },
     "execution_count": 12,
     "metadata": {},
     "output_type": "execute_result"
    }
   ],
   "source": [
    "df_by_movies = pd.merge(df_by_movies,df_ML[['id','title']], on='id', how='inner')\n",
    "df_by_movies.drop_duplicates( keep = 'first',inplace=True)\n",
    "df_by_movies.head(10)"
   ]
  },
  {
   "cell_type": "code",
   "execution_count": 13,
   "metadata": {},
   "outputs": [
    {
     "data": {
      "image/png": "[encoded data removed]",
      "text/plain": [
       "<Figure size 800x400 with 1 Axes>"
      ]
     },
     "metadata": {},
     "output_type": "display_data"
    }
   ],
   "source": [
    "#Distribucion de la cantidad de vistos\n",
    "plt.figure(figsize = (8,4))\n",
    "df_by_movies.Vistos.hist(log = True, bins = 20)\n",
    "plt.title('Distribución de la cantidad de vistas')\n",
    "plt.show()"
   ]
  },
  {
   "attachments": {},
   "cell_type": "markdown",
   "metadata": {},
   "source": [
    "### Machine learning"
   ]
  },
  {
   "cell_type": "code",
   "execution_count": 14,
   "metadata": {},
   "outputs": [],
   "source": [
    "#Trabajaremos con la libreria surprise.\n",
    "# pip install scikit-surprise, instalando previamente windows build tools 17.\n",
    "from surprise import Reader\n",
    "from surprise.model_selection import train_test_split\n",
    "from surprise import Dataset"
   ]
  },
  {
   "cell_type": "code",
   "execution_count": 15,
   "metadata": {},
   "outputs": [
    {
     "data": {
      "text/plain": [
       "(7897251, 4)"
      ]
     },
     "execution_count": 15,
     "metadata": {},
     "output_type": "execute_result"
    }
   ],
   "source": [
    "df_ML.shape"
   ]
  },
  {
   "cell_type": "code",
   "execution_count": 16,
   "metadata": {},
   "outputs": [
    {
     "data": {
      "text/plain": [
       "0     64\n",
       "1    189\n",
       "2    212\n",
       "3    261\n",
       "4    303\n",
       "Name: userId, dtype: int32"
      ]
     },
     "execution_count": 16,
     "metadata": {},
     "output_type": "execute_result"
    }
   ],
   "source": [
    "df_ML.userId.head()"
   ]
  },
  {
   "cell_type": "code",
   "execution_count": 17,
   "metadata": {},
   "outputs": [
    {
     "data": {
      "text/plain": [
       "0    ns1\n",
       "1    ns1\n",
       "2    ns1\n",
       "3    ns1\n",
       "4    ns1\n",
       "Name: id, dtype: object"
      ]
     },
     "execution_count": 17,
     "metadata": {},
     "output_type": "execute_result"
    }
   ],
   "source": [
    "df_ML.id.head()"
   ]
  },
  {
   "cell_type": "code",
   "execution_count": 18,
   "metadata": {},
   "outputs": [],
   "source": [
    "reader = Reader()"
   ]
  },
  {
   "cell_type": "code",
   "execution_count": 19,
   "metadata": {},
   "outputs": [],
   "source": [
    "df_ML2 = df_ML.copy()\n"
   ]
  },
  {
   "cell_type": "code",
   "execution_count": 20,
   "metadata": {},
   "outputs": [],
   "source": [
    "values = np.unique(df_ML2['id'])"
   ]
  },
  {
   "cell_type": "code",
   "execution_count": 21,
   "metadata": {},
   "outputs": [],
   "source": [
    "new_id = pd.DataFrame(values, index = np.arange(1,len(values)+1))"
   ]
  },
  {
   "cell_type": "code",
   "execution_count": 22,
   "metadata": {},
   "outputs": [],
   "source": [
    "new_id.rename(columns={0:'id'},inplace=True)"
   ]
  },
  {
   "cell_type": "code",
   "execution_count": 23,
   "metadata": {},
   "outputs": [
    {
     "data": {
      "text/html": [
       "<div>\n",
       "<style scoped>\n",
       "    .dataframe tbody tr th:only-of-type {\n",
       "        vertical-align: middle;\n",
       "    }\n",
       "\n",
       "    .dataframe tbody tr th {\n",
       "        vertical-align: top;\n",
       "    }\n",
       "\n",
       "    .dataframe thead th {\n",
       "        text-align: right;\n",
       "    }\n",
       "</style>\n",
       "<table border=\"1\" class=\"dataframe\">\n",
       "  <thead>\n",
       "    <tr style=\"text-align: right;\">\n",
       "      <th></th>\n",
       "      <th>id</th>\n",
       "    </tr>\n",
       "  </thead>\n",
       "  <tbody>\n",
       "    <tr>\n",
       "      <th>1</th>\n",
       "      <td>as1</td>\n",
       "    </tr>\n",
       "    <tr>\n",
       "      <th>2</th>\n",
       "      <td>as10</td>\n",
       "    </tr>\n",
       "    <tr>\n",
       "      <th>3</th>\n",
       "      <td>as100</td>\n",
       "    </tr>\n",
       "    <tr>\n",
       "      <th>4</th>\n",
       "      <td>as1000</td>\n",
       "    </tr>\n",
       "    <tr>\n",
       "      <th>5</th>\n",
       "      <td>as1001</td>\n",
       "    </tr>\n",
       "    <tr>\n",
       "      <th>...</th>\n",
       "      <td>...</td>\n",
       "    </tr>\n",
       "    <tr>\n",
       "      <th>16477</th>\n",
       "      <td>ns993</td>\n",
       "    </tr>\n",
       "    <tr>\n",
       "      <th>16478</th>\n",
       "      <td>ns995</td>\n",
       "    </tr>\n",
       "    <tr>\n",
       "      <th>16479</th>\n",
       "      <td>ns996</td>\n",
       "    </tr>\n",
       "    <tr>\n",
       "      <th>16480</th>\n",
       "      <td>ns997</td>\n",
       "    </tr>\n",
       "    <tr>\n",
       "      <th>16481</th>\n",
       "      <td>ns999</td>\n",
       "    </tr>\n",
       "  </tbody>\n",
       "</table>\n",
       "<p>16481 rows × 1 columns</p>\n",
       "</div>"
      ],
      "text/plain": [
       "           id\n",
       "1         as1\n",
       "2        as10\n",
       "3       as100\n",
       "4      as1000\n",
       "5      as1001\n",
       "...       ...\n",
       "16477   ns993\n",
       "16478   ns995\n",
       "16479   ns996\n",
       "16480   ns997\n",
       "16481   ns999\n",
       "\n",
       "[16481 rows x 1 columns]"
      ]
     },
     "execution_count": 23,
     "metadata": {},
     "output_type": "execute_result"
    }
   ],
   "source": [
    "new_id"
   ]
  },
  {
   "cell_type": "code",
   "execution_count": 24,
   "metadata": {},
   "outputs": [],
   "source": [
    "#Creamos la nueva columna.\n",
    "new_id['newid'] = new_id.index\n"
   ]
  },
  {
   "cell_type": "code",
   "execution_count": 25,
   "metadata": {},
   "outputs": [],
   "source": [
    "auxtable = new_id.merge(df_ML[['id','title']], on = 'id', how = 'left')\n",
    "auxtable.drop_duplicates(inplace= True)"
   ]
  },
  {
   "cell_type": "code",
   "execution_count": 26,
   "metadata": {},
   "outputs": [],
   "source": [
    "#Guardamos esta tabla para trabajar con ella en Streamlit.\n",
    "#La subimos al drive.\n",
    "\n",
    "auxtable.to_csv('data_aux.csv')"
   ]
  },
  {
   "cell_type": "code",
   "execution_count": 27,
   "metadata": {},
   "outputs": [],
   "source": [
    "#Realizamos un merge, para poner el nuevo id en mi vieja tabla.\n",
    "dataframe = df_ML.merge(new_id[['id','newid']], on = 'id', how = 'left')\n"
   ]
  },
  {
   "cell_type": "code",
   "execution_count": 28,
   "metadata": {},
   "outputs": [],
   "source": [
    "#Guardamos tambien esta tabla para trabajar con ella en Streamlit.\n",
    "dataframe.to_csv('new_data.csv', compression = 'gzip')"
   ]
  },
  {
   "attachments": {},
   "cell_type": "markdown",
   "metadata": {},
   "source": [
    "El dataset tiene 7897251 filas. "
   ]
  },
  {
   "cell_type": "code",
   "execution_count": 69,
   "metadata": {},
   "outputs": [],
   "source": [
    "N_filas = 100000 # Limitamos el dataset\n",
    "\n",
    "data = Dataset.load_from_df(dataframe[['userId', 'newid', 'rating_y']][:N_filas], reader)"
   ]
  },
  {
   "cell_type": "code",
   "execution_count": 70,
   "metadata": {},
   "outputs": [],
   "source": [
    "# Separamos nuestros datos\n",
    "trainset, testset = train_test_split(data, test_size=.3)"
   ]
  },
  {
   "cell_type": "code",
   "execution_count": 71,
   "metadata": {},
   "outputs": [],
   "source": [
    "# Usaremos un modelo de Singular Value Decomposition\n",
    "\n",
    "from surprise import SVD\n",
    "model = SVD(n_factors=5) #Según búsqueda de gridsearch"
   ]
  },
  {
   "cell_type": "code",
   "execution_count": 72,
   "metadata": {},
   "outputs": [
    {
     "data": {
      "text/plain": [
       "<surprise.prediction_algorithms.matrix_factorization.SVD at 0x1c15dd286d0>"
      ]
     },
     "execution_count": 72,
     "metadata": {},
     "output_type": "execute_result"
    }
   ],
   "source": [
    "# Entrenamos el modelo\n",
    "model.fit(trainset)"
   ]
  },
  {
   "cell_type": "code",
   "execution_count": 73,
   "metadata": {},
   "outputs": [],
   "source": [
    "# Predecimos\n",
    "predictions = model.test(testset)"
   ]
  },
  {
   "cell_type": "code",
   "execution_count": 74,
   "metadata": {},
   "outputs": [
    {
     "data": {
      "text/plain": [
       "Prediction(uid=3347, iid=10770, r_ui=3.5, est=3.3631342153469213, details={'was_impossible': False})"
      ]
     },
     "execution_count": 74,
     "metadata": {},
     "output_type": "execute_result"
    }
   ],
   "source": [
    "predictions[1]"
   ]
  },
  {
   "cell_type": "code",
   "execution_count": 76,
   "metadata": {},
   "outputs": [
    {
     "data": {
      "text/plain": [
       "Prediction(uid=212, iid=18, r_ui=None, est=3.4217270292385775, details={'was_impossible': False})"
      ]
     },
     "execution_count": 76,
     "metadata": {},
     "output_type": "execute_result"
    }
   ],
   "source": [
    "model.predict(212,18)"
   ]
  },
  {
   "attachments": {},
   "cell_type": "markdown",
   "metadata": {},
   "source": [
    "### Evaluación del modelo"
   ]
  },
  {
   "cell_type": "code",
   "execution_count": 77,
   "metadata": {},
   "outputs": [
    {
     "name": "stdout",
     "output_type": "stream",
     "text": [
      "RMSE: 1.0412\n"
     ]
    },
    {
     "data": {
      "text/plain": [
       "1.041191993177895"
      ]
     },
     "execution_count": 77,
     "metadata": {},
     "output_type": "execute_result"
    }
   ],
   "source": [
    "from surprise import accuracy\n",
    "\n",
    "accuracy.rmse(predictions)"
   ]
  },
  {
   "cell_type": "code",
   "execution_count": 83,
   "metadata": {},
   "outputs": [],
   "source": [
    "#Tomamos un usuario de la tabla para hacerle una recomendación\n",
    "userId = 122406\n",
    "rating = 4   # Tomamos películas a las que haya calificado con 4 o 5 estrellas\n",
    "\n",
    "if userId in dataframe['userId']:\n",
    "    df_user = dataframe[(dataframe['userId'] == userId) & (dataframe['rating_y'] >= rating)]\n",
    "    df_user = df_user.reset_index(drop=True)\n"
   ]
  },
  {
   "cell_type": "code",
   "execution_count": 84,
   "metadata": {},
   "outputs": [
    {
     "data": {
      "text/html": [
       "<div>\n",
       "<style scoped>\n",
       "    .dataframe tbody tr th:only-of-type {\n",
       "        vertical-align: middle;\n",
       "    }\n",
       "\n",
       "    .dataframe tbody tr th {\n",
       "        vertical-align: top;\n",
       "    }\n",
       "\n",
       "    .dataframe thead th {\n",
       "        text-align: right;\n",
       "    }\n",
       "</style>\n",
       "<table border=\"1\" class=\"dataframe\">\n",
       "  <thead>\n",
       "    <tr style=\"text-align: right;\">\n",
       "      <th></th>\n",
       "      <th>title</th>\n",
       "      <th>id</th>\n",
       "      <th>userId</th>\n",
       "      <th>rating_y</th>\n",
       "      <th>newid</th>\n",
       "    </tr>\n",
       "  </thead>\n",
       "  <tbody>\n",
       "    <tr>\n",
       "      <th>0</th>\n",
       "      <td>beethoven</td>\n",
       "      <td>ns326</td>\n",
       "      <td>122406</td>\n",
       "      <td>4.0</td>\n",
       "      <td>11974</td>\n",
       "    </tr>\n",
       "    <tr>\n",
       "      <th>1</th>\n",
       "      <td>cousins</td>\n",
       "      <td>ns427</td>\n",
       "      <td>122406</td>\n",
       "      <td>5.0</td>\n",
       "      <td>12646</td>\n",
       "    </tr>\n",
       "    <tr>\n",
       "      <th>2</th>\n",
       "      <td>the beguiled</td>\n",
       "      <td>ns446</td>\n",
       "      <td>122406</td>\n",
       "      <td>4.5</td>\n",
       "      <td>12792</td>\n",
       "    </tr>\n",
       "    <tr>\n",
       "      <th>3</th>\n",
       "      <td>the sum of all fears</td>\n",
       "      <td>ns609</td>\n",
       "      <td>122406</td>\n",
       "      <td>4.5</td>\n",
       "      <td>14043</td>\n",
       "    </tr>\n",
       "    <tr>\n",
       "      <th>4</th>\n",
       "      <td>wanted</td>\n",
       "      <td>ns633</td>\n",
       "      <td>122406</td>\n",
       "      <td>4.5</td>\n",
       "      <td>14258</td>\n",
       "    </tr>\n",
       "    <tr>\n",
       "      <th>...</th>\n",
       "      <td>...</td>\n",
       "      <td>...</td>\n",
       "      <td>...</td>\n",
       "      <td>...</td>\n",
       "      <td>...</td>\n",
       "    </tr>\n",
       "    <tr>\n",
       "      <th>89</th>\n",
       "      <td>how to play baseball</td>\n",
       "      <td>ds541</td>\n",
       "      <td>122406</td>\n",
       "      <td>4.5</td>\n",
       "      <td>8501</td>\n",
       "    </tr>\n",
       "    <tr>\n",
       "      <th>90</th>\n",
       "      <td>miracle landing on the hudson</td>\n",
       "      <td>ds1087</td>\n",
       "      <td>122406</td>\n",
       "      <td>4.5</td>\n",
       "      <td>7887</td>\n",
       "    </tr>\n",
       "    <tr>\n",
       "      <th>91</th>\n",
       "      <td>return to oz</td>\n",
       "      <td>ds1164</td>\n",
       "      <td>122406</td>\n",
       "      <td>4.0</td>\n",
       "      <td>7960</td>\n",
       "    </tr>\n",
       "    <tr>\n",
       "      <th>92</th>\n",
       "      <td>tugboat mickey</td>\n",
       "      <td>ds1393</td>\n",
       "      <td>122406</td>\n",
       "      <td>4.5</td>\n",
       "      <td>8177</td>\n",
       "    </tr>\n",
       "    <tr>\n",
       "      <th>93</th>\n",
       "      <td>captain sparky vs. the flying saucers</td>\n",
       "      <td>ds1450</td>\n",
       "      <td>122406</td>\n",
       "      <td>4.0</td>\n",
       "      <td>8230</td>\n",
       "    </tr>\n",
       "  </tbody>\n",
       "</table>\n",
       "<p>94 rows × 5 columns</p>\n",
       "</div>"
      ],
      "text/plain": [
       "                                    title      id  userId  rating_y  newid\n",
       "0                               beethoven   ns326  122406       4.0  11974\n",
       "1                                 cousins   ns427  122406       5.0  12646\n",
       "2                            the beguiled   ns446  122406       4.5  12792\n",
       "3                    the sum of all fears   ns609  122406       4.5  14043\n",
       "4                                  wanted   ns633  122406       4.5  14258\n",
       "..                                    ...     ...     ...       ...    ...\n",
       "89                   how to play baseball   ds541  122406       4.5   8501\n",
       "90          miracle landing on the hudson  ds1087  122406       4.5   7887\n",
       "91                           return to oz  ds1164  122406       4.0   7960\n",
       "92                         tugboat mickey  ds1393  122406       4.5   8177\n",
       "93  captain sparky vs. the flying saucers  ds1450  122406       4.0   8230\n",
       "\n",
       "[94 rows x 5 columns]"
      ]
     },
     "execution_count": 84,
     "metadata": {},
     "output_type": "execute_result"
    }
   ],
   "source": [
    "\n",
    "df_user"
   ]
  },
  {
   "cell_type": "code",
   "execution_count": 102,
   "metadata": {},
   "outputs": [
    {
     "name": "stdout",
     "output_type": "stream",
     "text": [
      "(16481, 2)\n"
     ]
    },
    {
     "data": {
      "text/html": [
       "<div>\n",
       "<style scoped>\n",
       "    .dataframe tbody tr th:only-of-type {\n",
       "        vertical-align: middle;\n",
       "    }\n",
       "\n",
       "    .dataframe tbody tr th {\n",
       "        vertical-align: top;\n",
       "    }\n",
       "\n",
       "    .dataframe thead th {\n",
       "        text-align: right;\n",
       "    }\n",
       "</style>\n",
       "<table border=\"1\" class=\"dataframe\">\n",
       "  <thead>\n",
       "    <tr style=\"text-align: right;\">\n",
       "      <th></th>\n",
       "      <th>title</th>\n",
       "      <th>newid</th>\n",
       "    </tr>\n",
       "  </thead>\n",
       "  <tbody>\n",
       "    <tr>\n",
       "      <th>0</th>\n",
       "      <td>the grand seduction</td>\n",
       "      <td>1</td>\n",
       "    </tr>\n",
       "    <tr>\n",
       "      <th>502</th>\n",
       "      <td>david's mother</td>\n",
       "      <td>2</td>\n",
       "    </tr>\n",
       "    <tr>\n",
       "      <th>1015</th>\n",
       "      <td>wilder napalm</td>\n",
       "      <td>3</td>\n",
       "    </tr>\n",
       "    <tr>\n",
       "      <th>1445</th>\n",
       "      <td>sinbad: make me wanna holla</td>\n",
       "      <td>4</td>\n",
       "    </tr>\n",
       "    <tr>\n",
       "      <th>1930</th>\n",
       "      <td>simple gifts: the chamber music society at sha...</td>\n",
       "      <td>5</td>\n",
       "    </tr>\n",
       "  </tbody>\n",
       "</table>\n",
       "</div>"
      ],
      "text/plain": [
       "                                                  title  newid\n",
       "0                                   the grand seduction      1\n",
       "502                                      david's mother      2\n",
       "1015                                      wilder napalm      3\n",
       "1445                        sinbad: make me wanna holla      4\n",
       "1930  simple gifts: the chamber music society at sha...      5"
      ]
     },
     "execution_count": 102,
     "metadata": {},
     "output_type": "execute_result"
    }
   ],
   "source": [
    "tabla_peliculas = auxtable[['title','newid']]\n",
    "print(tabla_peliculas.shape)\n",
    "tabla_peliculas.head()"
   ]
  },
  {
   "cell_type": "code",
   "execution_count": 103,
   "metadata": {},
   "outputs": [
    {
     "name": "stdout",
     "output_type": "stream",
     "text": [
      "(153, 5)\n"
     ]
    },
    {
     "data": {
      "text/html": [
       "<div>\n",
       "<style scoped>\n",
       "    .dataframe tbody tr th:only-of-type {\n",
       "        vertical-align: middle;\n",
       "    }\n",
       "\n",
       "    .dataframe tbody tr th {\n",
       "        vertical-align: top;\n",
       "    }\n",
       "\n",
       "    .dataframe thead th {\n",
       "        text-align: right;\n",
       "    }\n",
       "</style>\n",
       "<table border=\"1\" class=\"dataframe\">\n",
       "  <thead>\n",
       "    <tr style=\"text-align: right;\">\n",
       "      <th></th>\n",
       "      <th>title</th>\n",
       "      <th>id</th>\n",
       "      <th>userId</th>\n",
       "      <th>rating_y</th>\n",
       "      <th>newid</th>\n",
       "    </tr>\n",
       "  </thead>\n",
       "  <tbody>\n",
       "    <tr>\n",
       "      <th>76638</th>\n",
       "      <td>the loud house movie</td>\n",
       "      <td>ns250</td>\n",
       "      <td>122406</td>\n",
       "      <td>3.5</td>\n",
       "      <td>11446</td>\n",
       "    </tr>\n",
       "    <tr>\n",
       "      <th>97298</th>\n",
       "      <td>beethoven</td>\n",
       "      <td>ns326</td>\n",
       "      <td>122406</td>\n",
       "      <td>4.0</td>\n",
       "      <td>11974</td>\n",
       "    </tr>\n",
       "    <tr>\n",
       "      <th>133452</th>\n",
       "      <td>cousins</td>\n",
       "      <td>ns427</td>\n",
       "      <td>122406</td>\n",
       "      <td>5.0</td>\n",
       "      <td>12646</td>\n",
       "    </tr>\n",
       "    <tr>\n",
       "      <th>139067</th>\n",
       "      <td>the beguiled</td>\n",
       "      <td>ns446</td>\n",
       "      <td>122406</td>\n",
       "      <td>4.5</td>\n",
       "      <td>12792</td>\n",
       "    </tr>\n",
       "    <tr>\n",
       "      <th>189738</th>\n",
       "      <td>the sum of all fears</td>\n",
       "      <td>ns609</td>\n",
       "      <td>122406</td>\n",
       "      <td>4.5</td>\n",
       "      <td>14043</td>\n",
       "    </tr>\n",
       "  </tbody>\n",
       "</table>\n",
       "</div>"
      ],
      "text/plain": [
       "                       title     id  userId  rating_y  newid\n",
       "76638   the loud house movie  ns250  122406       3.5  11446\n",
       "97298              beethoven  ns326  122406       4.0  11974\n",
       "133452               cousins  ns427  122406       5.0  12646\n",
       "139067          the beguiled  ns446  122406       4.5  12792\n",
       "189738  the sum of all fears  ns609  122406       4.5  14043"
      ]
     },
     "execution_count": 103,
     "metadata": {},
     "output_type": "execute_result"
    }
   ],
   "source": [
    "#Peliculas vistas por el usuario:\n",
    "\n",
    "# Debemos extraer las películas que ya ha visto\n",
    "\n",
    "vistas_usuario = dataframe[dataframe['userId'] == userId]\n",
    "print(vistas_usuario.shape)\n",
    "vistas_usuario.head()"
   ]
  },
  {
   "cell_type": "code",
   "execution_count": 113,
   "metadata": {},
   "outputs": [],
   "source": [
    "#Realizamos un merge y luego un drop, para quedarnos con las peliculas que no vio. \n",
    "peliculas_usuario = pd.merge(tabla_peliculas,vistas_usuario , how='outer', indicator=True)\n",
    "peliculas_usuario"
   ]
  },
  {
   "cell_type": "code",
   "execution_count": 117,
   "metadata": {},
   "outputs": [],
   "source": [
    "peliculas_del_usuario = peliculas_usuario.loc[peliculas_usuario._merge == 'left_only', ['newid','title']]"
   ]
  },
  {
   "cell_type": "code",
   "execution_count": 118,
   "metadata": {},
   "outputs": [
    {
     "name": "stdout",
     "output_type": "stream",
     "text": [
      "       newid                                title  Estimate_Score\n",
      "11812  11813                      chennai express        4.173480\n",
      "10580  10581           barbie big city big dreams        4.170831\n",
      "11679  11680                 la diosa del asfalto        4.154647\n",
      "10775  10776              love don't cost a thing        4.141693\n",
      "11152  11153  once upon a time in mumbai dobaara!        4.123719\n",
      "11502  11503                     o kadhal kanmani        4.042763\n",
      "16405  16406                       paradise hills        4.032146\n",
      "11927  11928  shiny_flakes: the teenage drug lord        4.021375\n",
      "11419  11420                          man in love        4.012823\n",
      "10921  10922                        the interview        4.001587\n"
     ]
    }
   ],
   "source": [
    "# Estimamos el score que ese usuario daria a las peliculas que no vio.\n",
    "peliculas_del_usuario['Estimate_Score'] = peliculas_del_usuario['newid'].apply(lambda x: model.predict(userId, x).est)\n",
    "peliculas_del_usuario = peliculas_del_usuario.sort_values('Estimate_Score', ascending=False)\n",
    "print(peliculas_del_usuario.head(10))"
   ]
  },
  {
   "cell_type": "code",
   "execution_count": 121,
   "metadata": {},
   "outputs": [],
   "source": [
    "#Para saber si recomendamos o no una pelicula, vamos a considerar un umbral de 4.\n",
    "#x<4 NO recomendamos\n",
    "#x>4 SI recomendamos\n",
    "\n",
    "#Filtramos\n",
    "peliculas_del_usuario_filtradas = peliculas_del_usuario[peliculas_del_usuario['Estimate_Score']>4]"
   ]
  },
  {
   "cell_type": "code",
   "execution_count": 122,
   "metadata": {},
   "outputs": [
    {
     "data": {
      "text/html": [
       "<div>\n",
       "<style scoped>\n",
       "    .dataframe tbody tr th:only-of-type {\n",
       "        vertical-align: middle;\n",
       "    }\n",
       "\n",
       "    .dataframe tbody tr th {\n",
       "        vertical-align: top;\n",
       "    }\n",
       "\n",
       "    .dataframe thead th {\n",
       "        text-align: right;\n",
       "    }\n",
       "</style>\n",
       "<table border=\"1\" class=\"dataframe\">\n",
       "  <thead>\n",
       "    <tr style=\"text-align: right;\">\n",
       "      <th></th>\n",
       "      <th>newid</th>\n",
       "      <th>title</th>\n",
       "      <th>Estimate_Score</th>\n",
       "    </tr>\n",
       "  </thead>\n",
       "  <tbody>\n",
       "    <tr>\n",
       "      <th>11812</th>\n",
       "      <td>11813</td>\n",
       "      <td>chennai express</td>\n",
       "      <td>4.173480</td>\n",
       "    </tr>\n",
       "    <tr>\n",
       "      <th>10580</th>\n",
       "      <td>10581</td>\n",
       "      <td>barbie big city big dreams</td>\n",
       "      <td>4.170831</td>\n",
       "    </tr>\n",
       "    <tr>\n",
       "      <th>11679</th>\n",
       "      <td>11680</td>\n",
       "      <td>la diosa del asfalto</td>\n",
       "      <td>4.154647</td>\n",
       "    </tr>\n",
       "    <tr>\n",
       "      <th>10775</th>\n",
       "      <td>10776</td>\n",
       "      <td>love don't cost a thing</td>\n",
       "      <td>4.141693</td>\n",
       "    </tr>\n",
       "    <tr>\n",
       "      <th>11152</th>\n",
       "      <td>11153</td>\n",
       "      <td>once upon a time in mumbai dobaara!</td>\n",
       "      <td>4.123719</td>\n",
       "    </tr>\n",
       "    <tr>\n",
       "      <th>11502</th>\n",
       "      <td>11503</td>\n",
       "      <td>o kadhal kanmani</td>\n",
       "      <td>4.042763</td>\n",
       "    </tr>\n",
       "    <tr>\n",
       "      <th>16405</th>\n",
       "      <td>16406</td>\n",
       "      <td>paradise hills</td>\n",
       "      <td>4.032146</td>\n",
       "    </tr>\n",
       "    <tr>\n",
       "      <th>11927</th>\n",
       "      <td>11928</td>\n",
       "      <td>shiny_flakes: the teenage drug lord</td>\n",
       "      <td>4.021375</td>\n",
       "    </tr>\n",
       "    <tr>\n",
       "      <th>11419</th>\n",
       "      <td>11420</td>\n",
       "      <td>man in love</td>\n",
       "      <td>4.012823</td>\n",
       "    </tr>\n",
       "    <tr>\n",
       "      <th>10921</th>\n",
       "      <td>10922</td>\n",
       "      <td>the interview</td>\n",
       "      <td>4.001587</td>\n",
       "    </tr>\n",
       "  </tbody>\n",
       "</table>\n",
       "</div>"
      ],
      "text/plain": [
       "       newid                                title  Estimate_Score\n",
       "11812  11813                      chennai express        4.173480\n",
       "10580  10581           barbie big city big dreams        4.170831\n",
       "11679  11680                 la diosa del asfalto        4.154647\n",
       "10775  10776              love don't cost a thing        4.141693\n",
       "11152  11153  once upon a time in mumbai dobaara!        4.123719\n",
       "11502  11503                     o kadhal kanmani        4.042763\n",
       "16405  16406                       paradise hills        4.032146\n",
       "11927  11928  shiny_flakes: the teenage drug lord        4.021375\n",
       "11419  11420                          man in love        4.012823\n",
       "10921  10922                        the interview        4.001587"
      ]
     },
     "execution_count": 122,
     "metadata": {},
     "output_type": "execute_result"
    }
   ],
   "source": [
    "peliculas_del_usuario_filtradas"
   ]
  },
  {
   "cell_type": "code",
   "execution_count": 140,
   "metadata": {},
   "outputs": [
    {
     "data": {
      "text/plain": [
       "4.1734799206229445"
      ]
     },
     "execution_count": 140,
     "metadata": {},
     "output_type": "execute_result"
    }
   ],
   "source": [
    "score = peliculas_del_usuario_filtradas[peliculas_del_usuario_filtradas['title'] == 'chennai express']\n",
    "score = score['Estimate_Score']\n",
    "score = np.array(score)\n",
    "type(score)\n",
    "score = float(score)\n",
    "score"
   ]
  },
  {
   "cell_type": "code",
   "execution_count": 123,
   "metadata": {},
   "outputs": [
    {
     "data": {
      "text/plain": [
       "(10, 3)"
      ]
     },
     "execution_count": 123,
     "metadata": {},
     "output_type": "execute_result"
    }
   ],
   "source": [
    "peliculas_del_usuario_filtradas.shape"
   ]
  },
  {
   "cell_type": "code",
   "execution_count": 124,
   "metadata": {},
   "outputs": [],
   "source": [
    "#Vamos a sacar el numero de factors, mediante gridsearch.\n",
    "\n",
    "from surprise.model_selection import GridSearchCV\n",
    "\n",
    "param_grid = {'n_factors': [5,50,100],'n_epochs': [5, 10,20], 'lr_all': [0.001, 0.002, 0.005],\n",
    "              'reg_all': [0.002, 0.02, 0.2]}\n",
    "gs = GridSearchCV(SVD, param_grid, measures=['rmse'], cv=3, n_jobs = -1)\n",
    "gs.fit(data)"
   ]
  },
  {
   "cell_type": "code",
   "execution_count": 125,
   "metadata": {},
   "outputs": [
    {
     "name": "stdout",
     "output_type": "stream",
     "text": [
      "1.0352476446014158\n",
      "{'n_factors': 5, 'n_epochs': 20, 'lr_all': 0.005, 'reg_all': 0.2}\n"
     ]
    }
   ],
   "source": [
    "# Observamos performance del mejor modelo\n",
    "print(gs.best_score['rmse'])\n",
    "print(gs.best_params['rmse'])"
   ]
  },
  {
   "attachments": {},
   "cell_type": "markdown",
   "metadata": {},
   "source": [
    "El parámetro óptimo según GridSearch es 5.\n",
    "Lo modificamos arriba."
   ]
  }
 ],
 "metadata": {
  "kernelspec": {
   "display_name": "Python 3",
   "language": "python",
   "name": "python3"
  },
  "language_info": {
   "codemirror_mode": {
    "name": "ipython",
    "version": 3
   },
   "file_extension": ".py",
   "mimetype": "text/x-python",
   "name": "python",
   "nbconvert_exporter": "python",
   "pygments_lexer": "ipython3",
   "version": "3.10.6"
  },
  "orig_nbformat": 4,
  "vscode": {
   "interpreter": {
    "hash": "8c3d4d9970fc5c09c50d9318a9c7fbf4d0159e4b28833276f5678ee22bded273"
   }
  }
 },
 "nbformat": 4,
 "nbformat_minor": 2
}
